{
 "cells": [
  {
   "cell_type": "code",
   "execution_count": 1,
   "metadata": {},
   "outputs": [],
   "source": [
    "import numpy as np\n",
    "import cv2\n",
    "import matplotlib.pyplot as plt\n",
    "import glob\n",
    "from utils import mask_by_range_and_plot,kMeans"
   ]
  },
  {
   "cell_type": "code",
   "execution_count": 2,
   "metadata": {},
   "outputs": [],
   "source": [
    "def draw_samples_from_face(mu=15):\n",
    "    x_s=[]\n",
    "    y_s=[]\n",
    "    b=mu\n",
    "    a=2*b\n",
    "    for i in range(12000):\n",
    "        y=np.random.randint(-a,a)\n",
    "        x=np.random.randint(-b,b)\n",
    "        if np.divide(np.square(x),np.square(b))+np.divide(np.square(y),np.square(a))<1:\n",
    "                y_s.append(y)\n",
    "                x_s.append(x)\n",
    "                if len(y_s)==25:\n",
    "                    break\n",
    "    return  list(map(lambda x: x + 256, x_s)),list(map(lambda x: x +384, y_s))\n",
    "\n",
    "def get_max_crowded_centroid_value(img):\n",
    "    reshaped_img =img.reshape(img.shape[0] * img.shape[1],img.shape[2])\n",
    "    cluster_centers,quantized_img_predicted=kMeans(reshaped_img,4) \n",
    "    quantized_img = [ cluster_centers[cl] for cl in quantized_img_predicted ]\n",
    "    quantized_img=np.array(quantized_img).reshape(img.shape[0] , img.shape[1],img.shape[2])\n",
    "    x,y=draw_samples_from_face(80)\n",
    "    values,counts=np.unique(quantized_img[y,x],return_counts=True,axis=0)\n",
    "    return values[np.argmax(counts)]"
   ]
  },
  {
   "cell_type": "code",
   "execution_count": 3,
   "metadata": {},
   "outputs": [
    {
     "ename": "AttributeError",
     "evalue": "'NoneType' object has no attribute 'reshape'",
     "output_type": "error",
     "traceback": [
      "\u001b[0;31m---------------------------------------------------------------------------\u001b[0m",
      "\u001b[0;31mAttributeError\u001b[0m                            Traceback (most recent call last)",
      "\u001b[0;32m<ipython-input-3-909ab00c1701>\u001b[0m in \u001b[0;36m<module>\u001b[0;34m()\u001b[0m\n\u001b[1;32m      7\u001b[0m \u001b[0;34m\u001b[0m\u001b[0m\n\u001b[1;32m      8\u001b[0m \u001b[0;34m\u001b[0m\u001b[0m\n\u001b[0;32m----> 9\u001b[0;31m     \u001b[0mbgr_centroids\u001b[0m\u001b[0;34m.\u001b[0m\u001b[0mappend\u001b[0m\u001b[0;34m(\u001b[0m\u001b[0mget_max_crowded_centroid_value\u001b[0m\u001b[0;34m(\u001b[0m\u001b[0mbgr_img\u001b[0m\u001b[0;34m)\u001b[0m\u001b[0;34m)\u001b[0m\u001b[0;34m\u001b[0m\u001b[0m\n\u001b[0m\u001b[1;32m     10\u001b[0m     \u001b[0mhsv_img\u001b[0m\u001b[0;34m=\u001b[0m\u001b[0mcv2\u001b[0m\u001b[0;34m.\u001b[0m\u001b[0mcvtColor\u001b[0m\u001b[0;34m(\u001b[0m\u001b[0mbgr_img\u001b[0m\u001b[0;34m,\u001b[0m\u001b[0mcv2\u001b[0m\u001b[0;34m.\u001b[0m\u001b[0mCOLOR_BGR2HSV\u001b[0m\u001b[0;34m)\u001b[0m\u001b[0;34m\u001b[0m\u001b[0m\n\u001b[1;32m     11\u001b[0m     \u001b[0mhsv_centroids\u001b[0m\u001b[0;34m.\u001b[0m\u001b[0mappend\u001b[0m\u001b[0;34m(\u001b[0m\u001b[0mget_max_crowded_centroid_value\u001b[0m\u001b[0;34m(\u001b[0m\u001b[0mhsv_img\u001b[0m\u001b[0;34m)\u001b[0m\u001b[0;34m)\u001b[0m\u001b[0;34m\u001b[0m\u001b[0m\n",
      "\u001b[0;32m<ipython-input-2-5770f482ef19>\u001b[0m in \u001b[0;36mget_max_crowded_centroid_value\u001b[0;34m(img)\u001b[0m\n\u001b[1;32m     15\u001b[0m \u001b[0;34m\u001b[0m\u001b[0m\n\u001b[1;32m     16\u001b[0m \u001b[0;32mdef\u001b[0m \u001b[0mget_max_crowded_centroid_value\u001b[0m\u001b[0;34m(\u001b[0m\u001b[0mimg\u001b[0m\u001b[0;34m)\u001b[0m\u001b[0;34m:\u001b[0m\u001b[0;34m\u001b[0m\u001b[0m\n\u001b[0;32m---> 17\u001b[0;31m     \u001b[0mreshaped_img\u001b[0m \u001b[0;34m=\u001b[0m\u001b[0mimg\u001b[0m\u001b[0;34m.\u001b[0m\u001b[0mreshape\u001b[0m\u001b[0;34m(\u001b[0m\u001b[0mimg\u001b[0m\u001b[0;34m.\u001b[0m\u001b[0mshape\u001b[0m\u001b[0;34m[\u001b[0m\u001b[0;36m0\u001b[0m\u001b[0;34m]\u001b[0m \u001b[0;34m*\u001b[0m \u001b[0mimg\u001b[0m\u001b[0;34m.\u001b[0m\u001b[0mshape\u001b[0m\u001b[0;34m[\u001b[0m\u001b[0;36m1\u001b[0m\u001b[0;34m]\u001b[0m\u001b[0;34m,\u001b[0m\u001b[0mimg\u001b[0m\u001b[0;34m.\u001b[0m\u001b[0mshape\u001b[0m\u001b[0;34m[\u001b[0m\u001b[0;36m2\u001b[0m\u001b[0;34m]\u001b[0m\u001b[0;34m)\u001b[0m\u001b[0;34m\u001b[0m\u001b[0m\n\u001b[0m\u001b[1;32m     18\u001b[0m     \u001b[0mcluster_centers\u001b[0m\u001b[0;34m,\u001b[0m\u001b[0mquantized_img_predicted\u001b[0m\u001b[0;34m=\u001b[0m\u001b[0mkMeans\u001b[0m\u001b[0;34m(\u001b[0m\u001b[0mreshaped_img\u001b[0m\u001b[0;34m,\u001b[0m\u001b[0;36m4\u001b[0m\u001b[0;34m)\u001b[0m\u001b[0;34m\u001b[0m\u001b[0m\n\u001b[1;32m     19\u001b[0m     \u001b[0mquantized_img\u001b[0m \u001b[0;34m=\u001b[0m \u001b[0;34m[\u001b[0m \u001b[0mcluster_centers\u001b[0m\u001b[0;34m[\u001b[0m\u001b[0mcl\u001b[0m\u001b[0;34m]\u001b[0m \u001b[0;32mfor\u001b[0m \u001b[0mcl\u001b[0m \u001b[0;32min\u001b[0m \u001b[0mquantized_img_predicted\u001b[0m \u001b[0;34m]\u001b[0m\u001b[0;34m\u001b[0m\u001b[0m\n",
      "\u001b[0;31mAttributeError\u001b[0m: 'NoneType' object has no attribute 'reshape'"
     ]
    }
   ],
   "source": [
    "bgr_centroids=[]\n",
    "hsv_centroids=[]\n",
    "original_images=glob.glob(\"../Images/Original Images/img_01*.jpg\")+glob.glob(\"../Images/Original Images/img_020.jpg\")\n",
    "original_images.sort()\n",
    "for img_path in original_images:\n",
    "    bgr_img=cv2.imread(img_path)\n",
    "    \n",
    "    \n",
    "    bgr_centroids.append(get_max_crowded_centroid_value(bgr_img))\n",
    "    hsv_img=cv2.cvtColor(bgr_img,cv2.COLOR_BGR2HSV)\n",
    "    hsv_centroids.append(get_max_crowded_centroid_value(hsv_img))\n",
    "    \n",
    "    \n",
    "max_bgr_skin_range=np.max(bgr_centroids,axis=0).astype(np.uint8)\n",
    "min_bgr_skin_range=np.min(bgr_centroids,axis=0).astype(np.uint8)\n",
    "max_hsv_skin_range=np.max(hsv_centroids,axis=0).astype(np.uint8)\n",
    "min_hsv_skin_range=np.min(hsv_centroids,axis=0).astype(np.uint8)\n",
    "\n",
    "mask_by_range_and_plot(max_bgr_skin_range,min_bgr_skin_range,max_hsv_skin_range,min_hsv_skin_range)\n"
   ]
  },
  {
   "cell_type": "code",
   "execution_count": null,
   "metadata": {},
   "outputs": [],
   "source": []
  },
  {
   "cell_type": "code",
   "execution_count": null,
   "metadata": {},
   "outputs": [],
   "source": []
  }
 ],
 "metadata": {
  "kernelspec": {
   "display_name": "Python 3",
   "language": "python",
   "name": "python3"
  },
  "language_info": {
   "codemirror_mode": {
    "name": "ipython",
    "version": 3
   },
   "file_extension": ".py",
   "mimetype": "text/x-python",
   "name": "python",
   "nbconvert_exporter": "python",
   "pygments_lexer": "ipython3",
   "version": "3.6.5"
  }
 },
 "nbformat": 4,
 "nbformat_minor": 2
}

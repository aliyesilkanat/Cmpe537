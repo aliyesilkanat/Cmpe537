{
 "cells": [
  {
   "cell_type": "code",
   "execution_count": 1,
   "metadata": {},
   "outputs": [],
   "source": [
    "import numpy as np\n",
    "import cv2\n",
    "import matplotlib.pyplot as plt\n",
    "import glob\n",
    "from utils import mask_by_range_and_plot,kMeans"
   ]
  },
  {
   "cell_type": "code",
   "execution_count": 2,
   "metadata": {},
   "outputs": [],
   "source": [
    "def get_max_min_centroid_values(img):\n",
    "    reshaped_img =img.reshape(img.shape[0] * img.shape[1],img.shape[2])\n",
    "    cluster_centers,quantized_img_predicted=kMeans(reshaped_img,4) \n",
    "    quantized_img = [ cluster_centers[cl] for cl in quantized_img_predicted ]\n",
    "    quantized_img=np.array(quantized_img).reshape(img.shape[0] , img.shape[1],img.shape[2])\n",
    " \n",
    "    values,counts=np.unique(quantized_img_predicted, return_counts=True,axis=0)\n",
    "    centroid_having_max_instances=np.argmax(counts)\n",
    "\n",
    "    max_centroid=reshaped_img[centroid_having_max_instances==quantized_img_predicted]\n",
    "    return np.max(max_centroid,axis=0),np.min(max_centroid,axis=0)"
   ]
  },
  {
   "cell_type": "code",
   "execution_count": 4,
   "metadata": {},
   "outputs": [
    {
     "name": "stdout",
     "output_type": "stream",
     "text": [
      "Max bgr skin range [255 255 255]\n",
      "Min bgr skin range [0 0 0]\n",
      "Max hsv skin range [179 194 255]\n",
      "Min hsv skin range [0 0 6]\n"
     ]
    }
   ],
   "source": [
    "min_ranges_bgr=[]\n",
    "max_ranges_bgr=[]\n",
    "min_ranges_hsv=[]\n",
    "max_ranges_hsv=[]\n",
    "original_images=glob.glob(\"../Images/Original Images/img_01*.jpg\")+glob.glob(\"../Images/Original Images/img_020.jpg\")\n",
    "original_images.sort()\n",
    "for img_path in original_images:\n",
    "    bgr_img=cv2.imread(img_path)\n",
    "    max_rgb,min_rgb=get_max_min_centroid_values(bgr_img)\n",
    "    max_ranges_bgr.append(max_rgb)\n",
    "    min_ranges_bgr.append(min_rgb)\n",
    "    hsv_img=cv2.cvtColor(bgr_img,cv2.COLOR_BGR2HSV)\n",
    "    max_hsv,min_hsv=get_max_min_centroid_values(hsv_img)\n",
    "    max_ranges_hsv.append(max_hsv)\n",
    "    min_ranges_hsv.append(min_hsv)\n",
    "\n",
    "max_bgr_skin_range=np.max(max_ranges_bgr,axis=0).astype(np.uint8)\n",
    "min_bgr_skin_range=np.min(min_ranges_bgr,axis=0).astype(np.uint8)\n",
    "max_hsv_skin_range=np.max(max_ranges_hsv,axis=0).astype(np.uint8)\n",
    "min_hsv_skin_range=np.min(min_ranges_hsv,axis=0).astype(np.uint8)\n",
    "    \n",
    "mask_by_range_and_plot(max_bgr_skin_range,min_bgr_skin_range,max_hsv_skin_range,min_hsv_skin_range)"
   ]
  },
  {
   "cell_type": "code",
   "execution_count": null,
   "metadata": {},
   "outputs": [],
   "source": []
  }
 ],
 "metadata": {
  "kernelspec": {
   "display_name": "Python 3",
   "language": "python",
   "name": "python3"
  },
  "language_info": {
   "codemirror_mode": {
    "name": "ipython",
    "version": 3
   },
   "file_extension": ".py",
   "mimetype": "text/x-python",
   "name": "python",
   "nbconvert_exporter": "python",
   "pygments_lexer": "ipython3",
   "version": "3.6.5"
  }
 },
 "nbformat": 4,
 "nbformat_minor": 2
}

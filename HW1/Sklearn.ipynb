{
 "cells": [
  {
   "cell_type": "code",
   "execution_count": 2,
   "metadata": {},
   "outputs": [],
   "source": [
    "import numpy as np\n",
    "import cv2\n",
    "from  sklearn.cluster import KMeans\n",
    "import matplotlib.pyplot as plt"
   ]
  },
  {
   "cell_type": "code",
   "execution_count": 3,
   "metadata": {},
   "outputs": [
    {
     "data": {
      "image/png": "[encoded data removed]",
      "text/plain": [
       "<Figure size 432x288 with 1 Axes>"
      ]
     },
     "metadata": {},
     "output_type": "display_data"
    }
   ],
   "source": [
    "bgr_img=cv2.imread(\"Images/Original Images/img_001.jpg\")\n",
    "reshaped_bgr =bgr_img.reshape(bgr_img.shape[0] * bgr_img.shape[1],bgr_img.shape[2])\n",
    "kmeans=KMeans(n_clusters=5)\n",
    "quantized_img=kmeans.fit_predict(reshaped_bgr)\n",
    "\n",
    "quantized_img = [ kmeans.cluster_centers_[cl] for cl in quantized_img ]\n",
    "quantized_img=np.array(quantized_img).reshape(bgr_img.shape[0] , bgr_img.shape[1],bgr_img.shape[2])\n",
    "plt.imshow(quantized_img.astype(np.uint8))\n",
    "\n",
    "plt.show()"
   ]
  },
  {
   "cell_type": "code",
   "execution_count": 5,
   "metadata": {},
   "outputs": [
    {
     "data": {
      "text/plain": [
       "array([[[245.33840878, 250.47954491, 226.01133268],\n",
       "        [245.33840878, 250.47954491, 226.01133268],\n",
       "        [245.33840878, 250.47954491, 226.01133268],\n",
       "        ...,\n",
       "        [245.33840878, 250.47954491, 226.01133268],\n",
       "        [245.33840878, 250.47954491, 226.01133268],\n",
       "        [245.33840878, 250.47954491, 226.01133268]],\n",
       "\n",
       "       [[245.33840878, 250.47954491, 226.01133268],\n",
       "        [245.33840878, 250.47954491, 226.01133268],\n",
       "        [245.33840878, 250.47954491, 226.01133268],\n",
       "        ...,\n",
       "        [245.33840878, 250.47954491, 226.01133268],\n",
       "        [245.33840878, 250.47954491, 226.01133268],\n",
       "        [245.33840878, 250.47954491, 226.01133268]],\n",
       "\n",
       "       [[245.33840878, 250.47954491, 226.01133268],\n",
       "        [245.33840878, 250.47954491, 226.01133268],\n",
       "        [245.33840878, 250.47954491, 226.01133268],\n",
       "        ...,\n",
       "        [245.33840878, 250.47954491, 226.01133268],\n",
       "        [245.33840878, 250.47954491, 226.01133268],\n",
       "        [245.33840878, 250.47954491, 226.01133268]],\n",
       "\n",
       "       ...,\n",
       "\n",
       "       [[ 74.96854892,  96.94094761, 114.22831957],\n",
       "        [ 74.96854892,  96.94094761, 114.22831957],\n",
       "        [ 74.96854892,  96.94094761, 114.22831957],\n",
       "        ...,\n",
       "        [138.33832097, 146.12875177, 129.38272422],\n",
       "        [138.33832097, 146.12875177, 129.38272422],\n",
       "        [138.33832097, 146.12875177, 129.38272422]],\n",
       "\n",
       "       [[ 74.96854892,  96.94094761, 114.22831957],\n",
       "        [ 74.96854892,  96.94094761, 114.22831957],\n",
       "        [ 74.96854892,  96.94094761, 114.22831957],\n",
       "        ...,\n",
       "        [138.33832097, 146.12875177, 129.38272422],\n",
       "        [138.33832097, 146.12875177, 129.38272422],\n",
       "        [138.33832097, 146.12875177, 129.38272422]],\n",
       "\n",
       "       [[ 74.96854892,  96.94094761, 114.22831957],\n",
       "        [ 74.96854892,  96.94094761, 114.22831957],\n",
       "        [ 74.96854892,  96.94094761, 114.22831957],\n",
       "        ...,\n",
       "        [ 74.96854892,  96.94094761, 114.22831957],\n",
       "        [ 74.96854892,  96.94094761, 114.22831957],\n",
       "        [138.33832097, 146.12875177, 129.38272422]]])"
      ]
     },
     "execution_count": 5,
     "metadata": {},
     "output_type": "execute_result"
    }
   ],
   "source": [
    "quantized_img"
   ]
  },
  {
   "cell_type": "code",
   "execution_count": 4,
   "metadata": {},
   "outputs": [
    {
     "data": {
      "text/plain": [
       "array([[245.33840878, 250.47954491, 226.01133268],\n",
       "       [ 52.8020756 ,  67.59333382,  83.46524109],\n",
       "       [ 74.96854892,  96.94094761, 114.22831957],\n",
       "       [ 33.22969213,  35.27688439,  33.4301503 ],\n",
       "       [138.33832097, 146.12875177, 129.38272422]])"
      ]
     },
     "execution_count": 4,
     "metadata": {},
     "output_type": "execute_result"
    }
   ],
   "source": [
    "kmeans.cluster_centers_"
   ]
  }
 ],
 "metadata": {
  "kernelspec": {
   "display_name": "Python 3",
   "language": "python",
   "name": "python3"
  },
  "language_info": {
   "codemirror_mode": {
    "name": "ipython",
    "version": 3
   },
   "file_extension": ".py",
   "mimetype": "text/x-python",
   "name": "python",
   "nbconvert_exporter": "python",
   "pygments_lexer": "ipython3",
   "version": "3.6.5"
  }
 },
 "nbformat": 4,
 "nbformat_minor": 2
}

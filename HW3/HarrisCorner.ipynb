{
 "cells": [
  {
   "cell_type": "code",
   "execution_count": 18,
   "metadata": {},
   "outputs": [],
   "source": [
    "\"\"\"\n",
    "\n",
    "\n",
    "Usage example:\n",
    "python corners.py --window_size 5 --k_corner_response 0.04 --corner_threshold 10000 checkerboard.png\n",
    "\n",
    "\"\"\"\n",
    "__author__ = 'jhughes'\n",
    "\n",
    "import cv2\n",
    "import numpy as np\n",
    "import sys\n",
    "import getopt\n",
    "import operator\n",
    "\n",
    "def readImage(filename):\n",
    "    \"\"\"\n",
    "     Read in an image file, errors out if we can't find the file\n",
    "    :param filename:\n",
    "    :return: Img object if filename is found\n",
    "    \"\"\"\n",
    "    img = cv2.imread(filename)\n",
    "    if img is None:\n",
    "        print('Invalid image:' + filename)\n",
    "        return None\n",
    "    else:\n",
    "        print('Image successfully read...')\n",
    "        return img\n",
    "\n",
    "def findCorners(img, window_size, k, thresh):\n",
    "    \"\"\"\n",
    "    Finds and returns list of corners and new image with corners drawn\n",
    "    :param img: The original image\n",
    "    :param window_size: The size (side length) of the sliding window\n",
    "    :param k: Harris corner constant. Usually 0.04 - 0.06\n",
    "    :param thresh: The threshold above which a corner is counted\n",
    "    :return:\n",
    "    \"\"\"\n",
    "    #Find x and y derivatives\n",
    "    dy, dx = np.gradient(img)\n",
    "    Ixx = dx**2\n",
    "    Ixy = dy*dx\n",
    "    Iyy = dy**2\n",
    "    height = img.shape[0]\n",
    "    width = img.shape[1]\n",
    "\n",
    "    cornerList = []\n",
    "    newImg = img.copy()\n",
    "    color_img = cv2.cvtColor(newImg, cv2.COLOR_GRAY2RGB)\n",
    "    offset = window_size/2\n",
    "\n",
    "    #Loop through image and find our corners\n",
    "    print (\"Finding Corners...\")\n",
    "    for y in range(offset, height-offset):\n",
    "        for x in range(offset, width-offset):\n",
    "            #Calculate sum of squares\n",
    "            windowIxx = Ixx[y-offset:y+offset+1, x-offset:x+offset+1]\n",
    "            windowIxy = Ixy[y-offset:y+offset+1, x-offset:x+offset+1]\n",
    "            windowIyy = Iyy[y-offset:y+offset+1, x-offset:x+offset+1]\n",
    "            Sxx = windowIxx.sum()\n",
    "            Sxy = windowIxy.sum()\n",
    "            Syy = windowIyy.sum()\n",
    "\n",
    "            #Find determinant and trace, use to get corner response\n",
    "            det = (Sxx * Syy) - (Sxy**2)\n",
    "            trace = Sxx + Syy\n",
    "            r = det - k*(trace**2)\n",
    "\n",
    "            #If corner response is over threshold, color the point and add to corner list\n",
    "            if r > thresh:\n",
    "                print (x, y, r)\n",
    "                cornerList.append([x, y, r])\n",
    "                color_img.itemset((y, x, 0), 0)\n",
    "                color_img.itemset((y, x, 1), 0)\n",
    "                color_img.itemset((y, x, 2), 255)\n",
    "    return color_img, cornerList\n",
    "\n",
    "\n",
    "    \"\"\"\n",
    "    Main parses argument list and runs findCorners() on the image\n",
    "    :return: None\n",
    "    \"\"\"\n"
   ]
  },
  {
   "cell_type": "code",
   "execution_count": 20,
   "metadata": {},
   "outputs": [
    {
     "name": "stdout",
     "output_type": "stream",
     "text": [
      "Image Name: Images/kuzey.jpg\n",
      "Window Size: 10\n",
      "K Corner Response: 0.04\n",
      "Corner Response Threshold: 10000\n",
      "Image successfully read...\n",
      "Shape: (1200, 1600)\n",
      "Size: 1920000\n",
      "Type: uint8\n",
      "Printing Original Image...\n",
      "[[ 97  96  96 ...  80  65  54]\n",
      " [ 97  97  96 ...  54  39  30]\n",
      " [ 97  97  96 ...  33  30  28]\n",
      " ...\n",
      " [ 41  41  41 ... 143 142 142]\n",
      " [ 41  41  41 ... 143 143 143]\n",
      " [ 41  41  41 ... 142 142 142]]\n",
      "Finding Corners...\n"
     ]
    },
    {
     "ename": "TypeError",
     "evalue": "'float' object cannot be interpreted as an integer",
     "output_type": "error",
     "traceback": [
      "\u001b[1;31m---------------------------------------------------------------------------\u001b[0m",
      "\u001b[1;31mTypeError\u001b[0m                                 Traceback (most recent call last)",
      "\u001b[1;32m<ipython-input-20-fcf8c1d17b5b>\u001b[0m in \u001b[0;36m<module>\u001b[1;34m()\u001b[0m\n\u001b[0;32m     18\u001b[0m \u001b[0mprint\u001b[0m \u001b[1;33m(\u001b[0m\u001b[1;34m\"Printing Original Image...\"\u001b[0m\u001b[1;33m)\u001b[0m\u001b[1;33m\u001b[0m\u001b[0m\n\u001b[0;32m     19\u001b[0m \u001b[0mprint\u001b[0m\u001b[1;33m(\u001b[0m\u001b[0mimg\u001b[0m\u001b[1;33m)\u001b[0m\u001b[1;33m\u001b[0m\u001b[0m\n\u001b[1;32m---> 20\u001b[1;33m \u001b[0mfinalImg\u001b[0m\u001b[1;33m,\u001b[0m \u001b[0mcornerList\u001b[0m \u001b[1;33m=\u001b[0m \u001b[0mfindCorners\u001b[0m\u001b[1;33m(\u001b[0m\u001b[0mimg\u001b[0m\u001b[1;33m,\u001b[0m \u001b[0mint\u001b[0m\u001b[1;33m(\u001b[0m\u001b[0mwindow_size\u001b[0m\u001b[1;33m)\u001b[0m\u001b[1;33m,\u001b[0m \u001b[0mfloat\u001b[0m\u001b[1;33m(\u001b[0m\u001b[0mk\u001b[0m\u001b[1;33m)\u001b[0m\u001b[1;33m,\u001b[0m \u001b[0mint\u001b[0m\u001b[1;33m(\u001b[0m\u001b[0mthresh\u001b[0m\u001b[1;33m)\u001b[0m\u001b[1;33m)\u001b[0m\u001b[1;33m\u001b[0m\u001b[0m\n\u001b[0m\u001b[0;32m     21\u001b[0m \u001b[1;32mif\u001b[0m \u001b[0mfinalImg\u001b[0m \u001b[1;32mis\u001b[0m \u001b[1;32mnot\u001b[0m \u001b[1;32mNone\u001b[0m\u001b[1;33m:\u001b[0m\u001b[1;33m\u001b[0m\u001b[0m\n\u001b[0;32m     22\u001b[0m     \u001b[0mcv2\u001b[0m\u001b[1;33m.\u001b[0m\u001b[0mimwrite\u001b[0m\u001b[1;33m(\u001b[0m\u001b[1;34m\"finalimage.png\"\u001b[0m\u001b[1;33m,\u001b[0m \u001b[0mfinalImg\u001b[0m\u001b[1;33m)\u001b[0m\u001b[1;33m\u001b[0m\u001b[0m\n",
      "\u001b[1;32m<ipython-input-18-140dc468f7ab>\u001b[0m in \u001b[0;36mfindCorners\u001b[1;34m(img, window_size, k, thresh)\u001b[0m\n\u001b[0;32m     52\u001b[0m     \u001b[1;31m#Loop through image and find our corners\u001b[0m\u001b[1;33m\u001b[0m\u001b[1;33m\u001b[0m\u001b[0m\n\u001b[0;32m     53\u001b[0m     \u001b[0mprint\u001b[0m \u001b[1;33m(\u001b[0m\u001b[1;34m\"Finding Corners...\"\u001b[0m\u001b[1;33m)\u001b[0m\u001b[1;33m\u001b[0m\u001b[0m\n\u001b[1;32m---> 54\u001b[1;33m     \u001b[1;32mfor\u001b[0m \u001b[0my\u001b[0m \u001b[1;32min\u001b[0m \u001b[0mrange\u001b[0m\u001b[1;33m(\u001b[0m\u001b[0moffset\u001b[0m\u001b[1;33m,\u001b[0m \u001b[0mheight\u001b[0m\u001b[1;33m-\u001b[0m\u001b[0moffset\u001b[0m\u001b[1;33m)\u001b[0m\u001b[1;33m:\u001b[0m\u001b[1;33m\u001b[0m\u001b[0m\n\u001b[0m\u001b[0;32m     55\u001b[0m         \u001b[1;32mfor\u001b[0m \u001b[0mx\u001b[0m \u001b[1;32min\u001b[0m \u001b[0mrange\u001b[0m\u001b[1;33m(\u001b[0m\u001b[0moffset\u001b[0m\u001b[1;33m,\u001b[0m \u001b[0mwidth\u001b[0m\u001b[1;33m-\u001b[0m\u001b[0moffset\u001b[0m\u001b[1;33m)\u001b[0m\u001b[1;33m:\u001b[0m\u001b[1;33m\u001b[0m\u001b[0m\n\u001b[0;32m     56\u001b[0m             \u001b[1;31m#Calculate sum of squares\u001b[0m\u001b[1;33m\u001b[0m\u001b[1;33m\u001b[0m\u001b[0m\n",
      "\u001b[1;31mTypeError\u001b[0m: 'float' object cannot be interpreted as an integer"
     ]
    }
   ],
   "source": [
    "img_name=\"Images/kuzey.jpg\"\n",
    "\n",
    "window_size =5\n",
    "k = 0.04\n",
    "thresh = 10000\n",
    "\n",
    "print(\"Image Name: \" + img_name)\n",
    "print(\"Window Size: \" + str(window_size))\n",
    "print(\"K Corner Response: \" + str(k))\n",
    "print(\"Corner Response Threshold:\" ,thresh)\n",
    "\n",
    "img = readImage(img_name)\n",
    "\n",
    "img = cv2.cvtColor(img, cv2.COLOR_BGR2GRAY)  \n",
    "print (\"Shape: \" + str(img.shape))\n",
    "print (\"Size: \" + str(img.size))\n",
    "print (\"Type: \" + str(img.dtype))\n",
    "print (\"Printing Original Image...\")\n",
    "print(img)\n",
    "finalImg, cornerList = findCorners(img, int(window_size), float(k), int(thresh))\n",
    "if finalImg is not None:\n",
    "    cv2.imwrite(\"finalimage.png\", finalImg)\n",
    "\n",
    "# Write top 100 corners to file\n",
    "cornerList.sort(key=operator.itemgetter(2))\n",
    "outfile = open('corners.txt', 'w')\n",
    "for i in range(100):\n",
    "    outfile.write(str(cornerList[i][0]) + ' ' + str(cornerList[i][1]) + ' ' + str(cornerList[i][2]) + '\\n')\n",
    "outfile.close()\n"
   ]
  },
  {
   "cell_type": "code",
   "execution_count": 21,
   "metadata": {},
   "outputs": [
    {
     "ename": "NameError",
     "evalue": "name 'offset' is not defined",
     "output_type": "error",
     "traceback": [
      "\u001b[1;31m---------------------------------------------------------------------------\u001b[0m",
      "\u001b[1;31mNameError\u001b[0m                                 Traceback (most recent call last)",
      "\u001b[1;32m<ipython-input-21-59c084ab2e28>\u001b[0m in \u001b[0;36m<module>\u001b[1;34m()\u001b[0m\n\u001b[1;32m----> 1\u001b[1;33m \u001b[0moffset\u001b[0m\u001b[1;33m\u001b[0m\u001b[0m\n\u001b[0m",
      "\u001b[1;31mNameError\u001b[0m: name 'offset' is not defined"
     ]
    }
   ],
   "source": [
    "offset"
   ]
  },
  {
   "cell_type": "code",
   "execution_count": null,
   "metadata": {},
   "outputs": [],
   "source": []
  }
 ],
 "metadata": {
  "kernelspec": {
   "display_name": "Python 3",
   "language": "python",
   "name": "python3"
  },
  "language_info": {
   "codemirror_mode": {
    "name": "ipython",
    "version": 3
   },
   "file_extension": ".py",
   "mimetype": "text/x-python",
   "name": "python",
   "nbconvert_exporter": "python",
   "pygments_lexer": "ipython3",
   "version": "3.6.2"
  }
 },
 "nbformat": 4,
 "nbformat_minor": 2
}

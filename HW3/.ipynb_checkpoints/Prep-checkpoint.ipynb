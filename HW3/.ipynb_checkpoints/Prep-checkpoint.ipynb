{
 "cells": [
  {
   "cell_type": "code",
   "execution_count": 29,
   "metadata": {},
   "outputs": [],
   "source": [
    "from PIL import Image\n",
    "import numpy as np"
   ]
  },
  {
   "cell_type": "code",
   "execution_count": 16,
   "metadata": {},
   "outputs": [],
   "source": [
    "img=Image.open(\"Images/kuzey.jpg\")"
   ]
  },
  {
   "cell_type": "code",
   "execution_count": 17,
   "metadata": {},
   "outputs": [],
   "source": [
    "qualities=[1,13,25,37,49,63] #https://pillow.readthedocs.io/en/5.1.x/handbook/image-file-formats.html?highlight=quality 1-95 range, default 75"
   ]
  },
  {
   "cell_type": "code",
   "execution_count": 20,
   "metadata": {},
   "outputs": [],
   "source": [
    "for i in range(len(qualities)):\n",
    "    img.save(\"Images/jpeg_quality/\"+str(i+1)+\".jpg\",quality=qualities[i])\n",
    "\n"
   ]
  },
  {
   "cell_type": "code",
   "execution_count": 80,
   "metadata": {},
   "outputs": [],
   "source": [
    "def noise_generator (image,mean,var):\n",
    "\n",
    "    sigma = var**0.5\n",
    "    noised_img=(img+np.random.normal(loc=mean,scale=sigma,size=(img.size[1],img.size[0],3)))\n",
    "    return  Image.fromarray(np.clip(noised_img,0,256).astype(np.uint8))\n",
    "vars=[0,1,2,3,4,5]\n",
    "for i in range(len(vars)):\n",
    "    noise_generator(img,0,i*1000).save(\"Images/gaussian_noise/\"+str(i+1)+\".jpg\")\n",
    "\n"
   ]
  },
  {
   "cell_type": "code",
   "execution_count": null,
   "metadata": {},
   "outputs": [],
   "source": []
  }
 ],
 "metadata": {
  "kernelspec": {
   "display_name": "Python 3",
   "language": "python",
   "name": "python3"
  },
  "language_info": {
   "codemirror_mode": {
    "name": "ipython",
    "version": 3
   },
   "file_extension": ".py",
   "mimetype": "text/x-python",
   "name": "python",
   "nbconvert_exporter": "python",
   "pygments_lexer": "ipython3",
   "version": "3.6.2"
  }
 },
 "nbformat": 4,
 "nbformat_minor": 2
}

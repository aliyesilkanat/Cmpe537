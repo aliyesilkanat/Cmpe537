{
 "cells": [
  {
   "cell_type": "code",
   "execution_count": 2,
   "metadata": {},
   "outputs": [],
   "source": [
    "import matplotlib\n",
    "matplotlib.use('TkAgg')\n",
    "import numpy as np\n",
    "import matplotlib.pyplot as plt\n",
    "import cv2\n",
    "import skimage"
   ]
  },
  {
   "cell_type": "code",
   "execution_count": 3,
   "metadata": {},
   "outputs": [],
   "source": [
    "import math"
   ]
  },
  {
   "cell_type": "code",
   "execution_count": null,
   "metadata": {},
   "outputs": [],
   "source": [
    "plt.figure(figsize=(20,100))\n",
    "plt.subplot(151)\n",
    "plt.imshow(cv2.cvtColor(cv2.imread(\"cmpe-building/left-2.jpg\"),cv2.COLOR_BGR2RGB))\n",
    "\n",
    "plt.axis('off')\n",
    "plt.subplot(152)\n",
    "plt.imshow(cv2.cvtColor(cv2.imread(\"cmpe-building/left-1.jpg\"),cv2.COLOR_BGR2RGB))\n",
    "plt.axis('off')\n",
    "plt.subplot(153)\n",
    "plt.imshow(cv2.cvtColor(cv2.imread(\"cmpe-building/middle.jpg\"),cv2.COLOR_BGR2RGB))\n",
    "plt.axis('off')\n",
    "plt.subplot(154)\n",
    "plt.imshow(cv2.cvtColor(cv2.imread(\"cmpe-building/right-1.jpg\"),cv2.COLOR_BGR2RGB))\n",
    "plt.axis('off')            \n",
    "plt.subplot(155)\n",
    "plt.imshow(cv2.cvtColor(cv2.imread(\"cmpe-building/right-2.jpg\"),cv2.COLOR_BGR2RGB))\n",
    "plt.axis('off')            \n",
    "plt.show()\n"
   ]
  },
  {
   "cell_type": "code",
   "execution_count": 4,
   "metadata": {},
   "outputs": [],
   "source": [
    "def computeH(points_left,points_right):\n",
    "    p1=points_left\n",
    "    p2=points_right\n",
    "    A = []\n",
    "    for i in range(0, len(p1)):\n",
    "        x, y = p1[i][0], p1[i][1]\n",
    "        u, v = p2[i][0], p2[i][1]\n",
    "        A.append([x, y, 1, 0, 0, 0, -u*x, -u*y, -u])\n",
    "        A.append([0, 0, 0, x, y, 1, -v*x, -v*y, -v])\n",
    "    A = np.asarray(A)\n",
    "    U, S, Vh = np.linalg.svd(A)\n",
    "    L = Vh[-1,:] / Vh[-1,-1]\n",
    "    return L.reshape(3, 3)\n",
    "\n",
    "def center_and_normalize_points(points):\n",
    "    centroid = np.mean(points, axis=0)\n",
    "    rms = math.sqrt(np.sum((points - centroid) ** 2) / points.shape[0])\n",
    "    norm_factor = math.sqrt(2) / rms\n",
    "    matrix = np.array([[norm_factor, 0, -norm_factor * centroid[0]],\n",
    "                       [0, norm_factor, -norm_factor * centroid[1]],\n",
    "                       [0, 0, 1]])\n",
    "    pointsh = np.row_stack([points.T, np.ones((points.shape[0]),)])\n",
    "    new_pointsh = (matrix @ pointsh).T\n",
    "    new_points = new_pointsh[:, :2]\n",
    "    new_points[:, 0] /= new_pointsh[:, 2]\n",
    "    new_points[:, 1] /= new_pointsh[:, 2]\n",
    "\n",
    "    return matrix, new_points\n",
    "def compute_H_with_normalization(points_left,points_right):\n",
    "    t1,new_points_left=center_and_normalize_points(points_left)\n",
    "    t2,new_points_right=center_and_normalize_points(points_right)\n",
    "    H=computeH(np.array(new_points_left),np.array(new_points_right))\n",
    "    return np.dot(np.dot(np.linalg.inv(t2),H),t1)\n"
   ]
  },
  {
   "cell_type": "code",
   "execution_count": 7,
   "metadata": {},
   "outputs": [],
   "source": [
    "def warp(image,H):\n",
    "    im=image\n",
    "    # This part will will calculate the X and Y offsets\n",
    "    bunchX=[]; bunchY=[]\n",
    "\n",
    "    tt = np.array([[1],[1],[1]])\n",
    "    tmp = np.dot(H,tt)\n",
    "    bunchX.append(tmp[0]/tmp[2])\n",
    "    bunchY.append(tmp[1]/tmp[2])\n",
    "\n",
    "    tt = np.array([[im.shape[1]],[1],[1]])\n",
    "    tmp = np.dot(H,tt)\n",
    "    bunchX.append(tmp[0]/tmp[2])\n",
    "    bunchY.append(tmp[1]/tmp[2])\n",
    "\n",
    "    tt = np.array([[1],[im.shape[0]],[1]])\n",
    "    tmp = np.dot(H,tt)\n",
    "    bunchX.append(tmp[0]/tmp[2])\n",
    "    bunchY.append(tmp[1]/tmp[2])\n",
    "\n",
    "    tt = np.array([[im.shape[1]],[im.shape[0]],[1]])\n",
    "    tmp = np.dot(H,tt)\n",
    "    bunchX.append(tmp[0]/tmp[2])\n",
    "    bunchY.append(tmp[1]/tmp[2])\n",
    "\n",
    "    refX1 = int(np.min(bunchX))\n",
    "    refX2 = int(np.max(bunchX))\n",
    "    refY1 = int(np.min(bunchY))\n",
    "    refY2 = int(np.max(bunchY))\n",
    "\n",
    "    # Final image whose size is defined by the offsets previously calculated\n",
    "    final = np.zeros((int(refY2-refY1),int(refX2-refX1),3))\n",
    "    # final = np.zeros((2000,2000,3))\n",
    "\n",
    "    # Iterate over the imagine to transform every pixel\n",
    "    for i in range(im.shape[0]):\n",
    "            for j in range(im.shape[1]):\n",
    "\n",
    "                    tt = np.array([[j],[i],[1]])\n",
    "                    tmp = np.dot(H,tt)\n",
    "                    x1=int(tmp[0]/tmp[2])-refX1\n",
    "                    y1=int(tmp[1]/tmp[2])-refY1\n",
    "\n",
    "                    if x1>0 and y1>0 and y1<refY2-refY1 and x1<refX2-refX1:\n",
    "                            final[y1,x1,:]=im[i,j,:]\n",
    "                            \n",
    "    return final.astype(np.uint8)\n",
    "    # Hi = np.linalg.inv(H)\n",
    "    # for i in range(final.shape[0]):\n",
    "    #         for j in range(final.shape[1]):\n",
    "    #                 if sum(final[i,j,:])==0:\n",
    "    #                         tt = np.array([[j+refX1],[i+refY1],[1]])\n",
    "    #                         tmp = np.dot(Hi,tt)\n",
    "    #                         x1=int(tmp[0]/tmp[2])\n",
    "    #                         y1=int(tmp[1]/tmp[2])\n",
    "\n",
    "    #                         if x1>0 and y1>0 and x1<im.shape[1] and y1<im.shape[0]:\n",
    "    #                                 final[i,j,:] = im[y1,x1,:]\n"
   ]
  },
  {
   "cell_type": "code",
   "execution_count": 47,
   "metadata": {},
   "outputs": [
    {
     "ename": "IndexError",
     "evalue": "index 1280 is out of bounds for axis 1 with size 1280",
     "output_type": "error",
     "traceback": [
      "\u001b[1;31m---------------------------------------------------------------------------\u001b[0m",
      "\u001b[1;31mIndexError\u001b[0m                                Traceback (most recent call last)",
      "\u001b[1;32m<ipython-input-47-2f4be78c78c2>\u001b[0m in \u001b[0;36m<module>\u001b[1;34m()\u001b[0m\n\u001b[0;32m     28\u001b[0m \u001b[1;31m# warped_left=warp(image_left_2,np.linalg.inv(H_left_2_middle))\u001b[0m\u001b[1;33m\u001b[0m\u001b[1;33m\u001b[0m\u001b[0m\n\u001b[0;32m     29\u001b[0m \u001b[1;31m# cv2.imshow(\"left_middle\",warped_left)\u001b[0m\u001b[1;33m\u001b[0m\u001b[1;33m\u001b[0m\u001b[0m\n\u001b[1;32m---> 30\u001b[1;33m \u001b[0mcv2\u001b[0m\u001b[1;33m.\u001b[0m\u001b[0mimshow\u001b[0m\u001b[1;33m(\u001b[0m\u001b[1;34m\"left_blend\"\u001b[0m\u001b[1;33m,\u001b[0m\u001b[0mblend\u001b[0m\u001b[1;33m(\u001b[0m\u001b[0mwarped_left\u001b[0m\u001b[1;33m,\u001b[0m\u001b[0mimage_middle\u001b[0m\u001b[1;33m)\u001b[0m\u001b[1;33m)\u001b[0m\u001b[1;33m\u001b[0m\u001b[0m\n\u001b[0m\u001b[0;32m     31\u001b[0m \u001b[1;31m# (points_middle_right_2,points_right_2_middle),(image_middle,image_right_2)=get_common_points(\"cmpe-building/middle.jpg\",\"cmpe-building/right-2.jpg\")\u001b[0m\u001b[1;33m\u001b[0m\u001b[1;33m\u001b[0m\u001b[0m\n\u001b[0;32m     32\u001b[0m \u001b[1;31m# H_middle_2_right=compute_H_with_normalization(points_middle_right_2,points_right_2_middle)\u001b[0m\u001b[1;33m\u001b[0m\u001b[1;33m\u001b[0m\u001b[0m\n",
      "\u001b[1;32m<ipython-input-47-2f4be78c78c2>\u001b[0m in \u001b[0;36mblend\u001b[1;34m(image_left, final)\u001b[0m\n\u001b[0;32m      4\u001b[0m         \u001b[1;32mfor\u001b[0m \u001b[0mi\u001b[0m \u001b[1;32min\u001b[0m \u001b[0mrange\u001b[0m\u001b[1;33m(\u001b[0m\u001b[0mfinal_res_img\u001b[0m\u001b[1;33m.\u001b[0m\u001b[0mshape\u001b[0m\u001b[1;33m[\u001b[0m\u001b[1;36m1\u001b[0m\u001b[1;33m]\u001b[0m\u001b[1;33m)\u001b[0m\u001b[1;33m:\u001b[0m\u001b[1;33m\u001b[0m\u001b[0m\n\u001b[0;32m      5\u001b[0m             \u001b[1;32mif\u001b[0m \u001b[0mj\u001b[0m\u001b[1;33m<\u001b[0m\u001b[0mimage_left\u001b[0m\u001b[1;33m.\u001b[0m\u001b[0mshape\u001b[0m\u001b[1;33m[\u001b[0m\u001b[1;36m0\u001b[0m\u001b[1;33m]\u001b[0m \u001b[1;32mand\u001b[0m \u001b[0mi\u001b[0m\u001b[1;33m<\u001b[0m\u001b[0mimage_left\u001b[0m\u001b[1;33m.\u001b[0m\u001b[0mshape\u001b[0m\u001b[1;33m[\u001b[0m\u001b[1;36m1\u001b[0m\u001b[1;33m]\u001b[0m\u001b[1;33m:\u001b[0m\u001b[1;33m\u001b[0m\u001b[0m\n\u001b[1;32m----> 6\u001b[1;33m                 \u001b[1;32mif\u001b[0m \u001b[0mnp\u001b[0m\u001b[1;33m.\u001b[0m\u001b[0msum\u001b[0m\u001b[1;33m(\u001b[0m\u001b[0mimage_left\u001b[0m\u001b[1;33m[\u001b[0m\u001b[0mj\u001b[0m\u001b[1;33m,\u001b[0m\u001b[0mi\u001b[0m\u001b[1;33m,\u001b[0m\u001b[1;33m:\u001b[0m\u001b[1;33m]\u001b[0m\u001b[1;33m)\u001b[0m\u001b[1;33m>\u001b[0m\u001b[0mnp\u001b[0m\u001b[1;33m.\u001b[0m\u001b[0msum\u001b[0m\u001b[1;33m(\u001b[0m\u001b[0mfinal\u001b[0m\u001b[1;33m[\u001b[0m\u001b[0mj\u001b[0m\u001b[1;33m,\u001b[0m\u001b[0mi\u001b[0m\u001b[1;33m,\u001b[0m\u001b[1;33m:\u001b[0m\u001b[1;33m]\u001b[0m\u001b[1;33m)\u001b[0m\u001b[1;33m:\u001b[0m\u001b[1;33m\u001b[0m\u001b[0m\n\u001b[0m\u001b[0;32m      7\u001b[0m                     \u001b[0mfinal_res_img\u001b[0m\u001b[1;33m[\u001b[0m\u001b[0mj\u001b[0m\u001b[1;33m,\u001b[0m\u001b[0mi\u001b[0m\u001b[1;33m]\u001b[0m\u001b[1;33m=\u001b[0m\u001b[0mimage_left\u001b[0m\u001b[1;33m[\u001b[0m\u001b[0mj\u001b[0m\u001b[1;33m,\u001b[0m\u001b[0mi\u001b[0m\u001b[1;33m]\u001b[0m\u001b[1;33m\u001b[0m\u001b[0m\n\u001b[0;32m      8\u001b[0m                 \u001b[1;32melse\u001b[0m\u001b[1;33m:\u001b[0m\u001b[1;33m\u001b[0m\u001b[0m\n",
      "\u001b[1;31mIndexError\u001b[0m: index 1280 is out of bounds for axis 1 with size 1280"
     ]
    }
   ],
   "source": [
    "def blend(image_left,final):\n",
    "    final_res_img=np.zeros((max(image_left.shape[0],final.shape[0]),max(image_left.shape[1],final.shape[1]),3),dtype=np.uint8)\n",
    "    for j in range(final_res_img.shape[0]):\n",
    "        for i in range(final_res_img.shape[1]):\n",
    "            if j<image_left.shape[0] and i<image_left.shape[1]:\n",
    "                if np.sum(image_left[j,i,:])>np.sum(final[j,i,:]):                                             \n",
    "                    final_res_img[j,i]=image_left[j,i]\n",
    "                else:\n",
    "                    final_res_img[j,i]=final[j,i]\n",
    "    return final_res_img\n",
    "def get_common_points(left_img_path,right_img_path):\n",
    "    plt.figure(figsize=(20,20))\n",
    "    image_left=cv2.imread(left_img_path)\n",
    "    plt.imshow(image_left)\n",
    "    points_left = np.array(plt.ginput(4))\n",
    "    \n",
    "    image_right=cv2.imread(right_img_path)\n",
    "    plt.figure(figsize=(20,20))\n",
    "    plt.imshow(image_right)\n",
    "    points_right = np.array(plt.ginput(4))\n",
    "    \n",
    "    print(\"Selected points for left img:\" ,points_left)\n",
    "    print(\"Selected points for right img:\" ,points_right)\n",
    "    return (points_left,points_right),(image_left,image_right)\n",
    "\n",
    "# (points_left_2_middle,points_middle_left_2),(image_left_2,image_middle)=get_common_points(\"cmpe-building/left-2.jpg\",\"cmpe-building/middle.jpg\")\n",
    "# H_left_2_middle=compute_H_with_normalization(points_left_2_middle,points_middle_left_2)\n",
    "# warped_left=warp(image_left_2,np.linalg.inv(H_left_2_middle))\n",
    "# cv2.imshow(\"left_middle\",warped_left)\n",
    "cv2.imshow(\"left_blend\",blend(warped_left,image_middle))\n",
    "# (points_middle_right_2,points_right_2_middle),(image_middle,image_right_2)=get_common_points(\"cmpe-building/middle.jpg\",\"cmpe-building/right-2.jpg\")\n",
    "# H_middle_2_right=compute_H_with_normalization(points_middle_right_2,points_right_2_middle)\n",
    "# warped_right=warp(image_right_2,H_middle_2_right)\n",
    "# cv2.imshow(\"right_middle\",blend(warp(image_left_2,np.linalg.inv(H_left_2_middle)),blend(image_middle,warped_right)))\n",
    "\n"
   ]
  },
  {
   "cell_type": "code",
   "execution_count": 41,
   "metadata": {},
   "outputs": [
    {
     "data": {
      "text/plain": [
       "True"
      ]
     },
     "execution_count": 41,
     "metadata": {},
     "output_type": "execute_result"
    }
   ],
   "source": [
    "zaa==None"
   ]
  },
  {
   "cell_type": "code",
   "execution_count": 33,
   "metadata": {},
   "outputs": [],
   "source": [
    "cv2.imshow(\"aaa\",cv2.warpPerspective(image_right_2,cv2.findHomography(points_middle_right_2,points_right_2_middle)[0],(image_right_2.shape[0],image_right_2.shape[1])))"
   ]
  },
  {
   "cell_type": "code",
   "execution_count": null,
   "metadata": {},
   "outputs": [],
   "source": [
    "[[459.39932753 787.174096  ]\n",
    " [432.76472104 747.85634355]\n",
    " [715.59887569 609.61005271]\n",
    " [910.9193233  534.77949162]\n",
    " [964.18853629 396.53320078]]\n",
    "[[209.54135234 808.73544411]\n",
    " [175.29685828 764.34443329]\n",
    " [498.71707997 610.87836731]\n",
    " [619.20696648 575.36555865]\n",
    " [730.81865083 399.06982997]]"
   ]
  },
  {
   "cell_type": "code",
   "execution_count": 45,
   "metadata": {},
   "outputs": [
    {
     "data": {
      "text/plain": [
       "(1401, 1869, 3)"
      ]
     },
     "execution_count": 45,
     "metadata": {},
     "output_type": "execute_result"
    }
   ],
   "source": [
    "warped_right.shape"
   ]
  },
  {
   "cell_type": "code",
   "execution_count": 16,
   "metadata": {},
   "outputs": [],
   "source": [
    "imae=blend(image_middle,image_left_2)"
   ]
  },
  {
   "cell_type": "code",
   "execution_count": 9,
   "metadata": {},
   "outputs": [],
   "source": [
    "cv2.imshow(\"aa\",warped_right)"
   ]
  },
  {
   "cell_type": "code",
   "execution_count": 20,
   "metadata": {},
   "outputs": [
    {
     "data": {
      "text/plain": [
       "(712, 1486, 3)"
      ]
     },
     "execution_count": 20,
     "metadata": {},
     "output_type": "execute_result"
    }
   ],
   "source": [
    "warped_left.shape"
   ]
  },
  {
   "cell_type": "code",
   "execution_count": null,
   "metadata": {},
   "outputs": [],
   "source": [
    "H=np.dot(np.dot(np.linalg.inv(t2),H),t1)\n",
    "skimage.__g"
   ]
  },
  {
   "cell_type": "code",
   "execution_count": 7,
   "metadata": {},
   "outputs": [],
   "source": [
    "# points_left=np.load(\"left-1.npz.npy\")\n",
    "# points_right=np.load(\"left-2.npz.npy\")\n",
    "points_left=np.array([[ 970.44746163,  396],\n",
    " [ 998.78276269  ,397],\n",
    " [1071.98229044  ,400],\n",
    " [1220.74262102  ,396],\n",
    " [ 999.96340024  ,417]])\n",
    "points_right=np.array([[733.13931523 ,396],\n",
    " [760.29397875 ,397],\n",
    " [831.1322314  ,400],\n",
    " [951.55726092 ,396],\n",
    " [762.65525384 ,417]])"
   ]
  },
  {
   "cell_type": "code",
   "execution_count": 14,
   "metadata": {},
   "outputs": [],
   "source": [
    "cv2.imshow(\"a\",cv2.warpPerspective(image_right_2,np.linalg.inv(H_middle_2_right),(image_right_2.shape[0],image_right_2.shape[1])))"
   ]
  },
  {
   "cell_type": "code",
   "execution_count": 21,
   "metadata": {},
   "outputs": [],
   "source": [
    "H=find_H(points_left,points_right)"
   ]
  },
  {
   "cell_type": "code",
   "execution_count": 30,
   "metadata": {},
   "outputs": [
    {
     "data": {
      "text/plain": [
       "(960, 1280, 3)"
      ]
     },
     "execution_count": 30,
     "metadata": {},
     "output_type": "execute_result"
    }
   ],
   "source": [
    "transform.warp(image_right,H).shape"
   ]
  },
  {
   "cell_type": "code",
   "execution_count": 5,
   "metadata": {},
   "outputs": [
    {
     "data": {
      "text/plain": [
       "array([[-4.70000518e-01, -7.63031937e-01,  7.90669984e+02],\n",
       "       [-2.70738276e-01, -4.83146824e-01,  4.64575377e+02],\n",
       "       [-5.74609589e-04, -1.01495730e-03,  1.00000000e+00]])"
      ]
     },
     "execution_count": 5,
     "metadata": {},
     "output_type": "execute_result"
    }
   ],
   "source": [
    "H"
   ]
  },
  {
   "cell_type": "code",
   "execution_count": 6,
   "metadata": {},
   "outputs": [],
   "source": []
  },
  {
   "cell_type": "code",
   "execution_count": 42,
   "metadata": {},
   "outputs": [],
   "source": []
  },
  {
   "cell_type": "code",
   "execution_count": 43,
   "metadata": {},
   "outputs": [
    {
     "data": {
      "text/plain": [
       "array([[ 1.08936590e+00, -9.69937909e-02, -2.44543147e+02],\n",
       "       [ 9.98341117e-02,  9.70490116e-01, -6.95126462e+01],\n",
       "       [ 1.93035791e-04, -1.08655541e-04,  9.07011461e-01]])"
      ]
     },
     "execution_count": 43,
     "metadata": {},
     "output_type": "execute_result"
    }
   ],
   "source": [
    "estimate(points_left,points_right)"
   ]
  },
  {
   "cell_type": "code",
   "execution_count": 119,
   "metadata": {},
   "outputs": [
    {
     "data": {
      "text/plain": [
       "array([[ 0.93890924, -0.05972727,  0.05940537],\n",
       "       [-0.01458205,  1.00524821, -0.04512195],\n",
       "       [ 0.02698676, -0.0296329 ,  1.        ]])"
      ]
     },
     "execution_count": 119,
     "metadata": {},
     "output_type": "execute_result"
    }
   ],
   "source": [
    "t1,new_points_left=center_and_normalize_points(points_left)\n",
    "t2,new_points_right=center_and_normalize_points(points_right)\n",
    "H=find_H(np.array(new_points_left),np.array(new_points_right))\n",
    "H"
   ]
  },
  {
   "cell_type": "code",
   "execution_count": 52,
   "metadata": {},
   "outputs": [
    {
     "data": {
      "text/plain": [
       "array([[ 1.08936590e+00, -9.69937909e-02, -2.44543147e+02],\n",
       "       [ 9.98341117e-02,  9.70490116e-01, -6.95126462e+01],\n",
       "       [ 1.93035791e-04, -1.08655541e-04,  9.07011461e-01]])"
      ]
     },
     "execution_count": 52,
     "metadata": {},
     "output_type": "execute_result"
    }
   ],
   "source": [
    "np.dot(np.dot(np.linalg.inv(t2),H),t1)"
   ]
  },
  {
   "cell_type": "code",
   "execution_count": 33,
   "metadata": {},
   "outputs": [
    {
     "data": {
      "text/plain": [
       "array([[ 5.44141392e-01, -1.11760633e-01,  3.71465192e+02],\n",
       "       [-1.36847154e-01,  7.20698807e-01,  1.12529631e+02],\n",
       "       [-2.78796720e-04, -1.16526305e-04,  1.00000000e+00]])"
      ]
     },
     "execution_count": 33,
     "metadata": {},
     "output_type": "execute_result"
    }
   ],
   "source": [
    "find_H(points_left,points_right)"
   ]
  },
  {
   "cell_type": "code",
   "execution_count": 32,
   "metadata": {},
   "outputs": [
    {
     "data": {
      "text/plain": [
       "array([[-1.60539512,  1.11159088],\n",
       "       [-1.77542814,  0.91321902],\n",
       "       [-0.38115736,  0.255758  ],\n",
       "       [-0.04109131,  0.28409684],\n",
       "       [ 0.29330696,  0.12539935],\n",
       "       [ 1.27383073, -0.22600223],\n",
       "       [ 0.8090738 , -0.78144343],\n",
       "       [ 1.42686045, -1.68261845]])"
      ]
     },
     "execution_count": 32,
     "metadata": {},
     "output_type": "execute_result"
    }
   ],
   "source": [
    "new_points_left"
   ]
  },
  {
   "cell_type": "code",
   "execution_count": null,
   "metadata": {},
   "outputs": [],
   "source": [
    "def computeH(im1Points,im2Points):\n",
    "    pass"
   ]
  },
  {
   "cell_type": "code",
   "execution_count": null,
   "metadata": {},
   "outputs": [],
   "source": [
    "import numpy as np\n",
    "np.array(x).T"
   ]
  },
  {
   "cell_type": "code",
   "execution_count": 60,
   "metadata": {},
   "outputs": [
    {
     "name": "stdout",
     "output_type": "stream",
     "text": [
      "ERROR! Session/line number was not unique in database. History logging moved to new session 1339\n"
     ]
    }
   ],
   "source": [
    "H=cv2.findHomography(points_left,points_right)"
   ]
  },
  {
   "cell_type": "code",
   "execution_count": 45,
   "metadata": {},
   "outputs": [
    {
     "data": {
      "text/plain": [
       "array([[ 970.44746163,  998.78276269, 1071.98229044, 1220.74262102,\n",
       "         999.96340024],\n",
       "       [ 396.52479339,  397.70543093,  400.06670602,  396.52479339,\n",
       "         416.59563164]])"
      ]
     },
     "execution_count": 45,
     "metadata": {},
     "output_type": "execute_result"
    }
   ],
   "source": [
    "points_left.T"
   ]
  },
  {
   "cell_type": "code",
   "execution_count": 137,
   "metadata": {},
   "outputs": [],
   "source": [
    "h_cv2,status=cv2.findHomography(points_right,points_left)"
   ]
  },
  {
   "cell_type": "code",
   "execution_count": 54,
   "metadata": {},
   "outputs": [
    {
     "data": {
      "text/plain": [
       "array([[ 6.73699075e-02, -9.97035318e-01,  7.17172924e+02],\n",
       "       [-1.19999237e-01, -4.40606045e-02,  2.56997622e+02],\n",
       "       [-3.02755847e-04, -9.98287838e-04,  1.00000000e+00]])"
      ]
     },
     "execution_count": 54,
     "metadata": {},
     "output_type": "execute_result"
    }
   ],
   "source": [
    "h_cv2"
   ]
  },
  {
   "cell_type": "code",
   "execution_count": null,
   "metadata": {},
   "outputs": [],
   "source": [
    "points_right[1:].dtype"
   ]
  },
  {
   "cell_type": "code",
   "execution_count": 6,
   "metadata": {},
   "outputs": [],
   "source": [
    "np.float32([[56,65],[368,52],[28,387],[389,390]]).shape\n",
    "p_l=points_left[1:].astype(np.float32)\n",
    "p_r=points_right[1:].astype(np.float32)"
   ]
  },
  {
   "cell_type": "code",
   "execution_count": 35,
   "metadata": {},
   "outputs": [],
   "source": [
    "M = cv2.getPerspectiveTransform(p_r,p_l)\n"
   ]
  },
  {
   "cell_type": "code",
   "execution_count": 41,
   "metadata": {},
   "outputs": [
    {
     "data": {
      "text/plain": [
       "array([[-2.22620571e-01, -6.24834723e-01,  5.88067189e+02],\n",
       "       [-2.90438308e-01, -5.85192914e-01,  6.20106084e+02],\n",
       "       [-4.36254493e-04, -9.80883972e-04,  1.00000000e+00]])"
      ]
     },
     "execution_count": 41,
     "metadata": {},
     "output_type": "execute_result"
    }
   ],
   "source": [
    "H"
   ]
  },
  {
   "cell_type": "code",
   "execution_count": 130,
   "metadata": {},
   "outputs": [],
   "source": [
    "# Iterate over the imagine to transform every pixel\n",
    "H=np.dot(np.dot(np.linalg.inv(t2),H),t1)\n",
    "image=image_right.astype(np.float64)\n",
    "image /= 255\n",
    "\n",
    "final=np.zeros(shape=(image_right.shape[0]*2,image_right.shape[1]*2,3))\n",
    "for i in range(image_right.shape[0]):\n",
    "        for j in range(image_right.shape[1]):\n",
    "#                 z_ = H[6] * x + H[7] * y + H[8]\n",
    "#                 x_[0] = (H[0] * x + H[1] * y + H[2]) / z_\n",
    "#                 y_[0] = (H[3] * x + H[4] * y + H[5]) / z_\n",
    "                tt = np.array([[j],[i],[1]])\n",
    "                tmp = np.dot(H,tt)\n",
    "                x1=int(tmp[0]/tmp[2])\n",
    "                y1=int(tmp[1]/tmp[2])\n",
    "            \n",
    "                final[y1][x1]=image[i,j,:]\n",
    "min_val = final.min()\n",
    "max_val = final.max()\n",
    "final=np.clip(final, min_val, max_val)"
   ]
  },
  {
   "cell_type": "code",
   "execution_count": 56,
   "metadata": {},
   "outputs": [
    {
     "data": {
      "text/plain": [
       "array([1, 4, 4, ..., 1, 1, 1], dtype=int64)"
      ]
     },
     "execution_count": 56,
     "metadata": {},
     "output_type": "execute_result"
    }
   ],
   "source": [
    "np.where"
   ]
  },
  {
   "cell_type": "code",
   "execution_count": 131,
   "metadata": {},
   "outputs": [],
   "source": [
    "cv2.imshow(\"Warp\",final)"
   ]
  },
  {
   "cell_type": "code",
   "execution_count": 14,
   "metadata": {},
   "outputs": [
    {
     "data": {
      "text/plain": [
       "(960, 1280, 3, 960, 1280, 3)"
      ]
     },
     "execution_count": 14,
     "metadata": {},
     "output_type": "execute_result"
    }
   ],
   "source": [
    "image_right.shape*2"
   ]
  },
  {
   "cell_type": "code",
   "execution_count": 30,
   "metadata": {},
   "outputs": [
    {
     "data": {
      "text/plain": [
       "array([[ 1.70939024e-01, -1.74395501e+00,  6.27002975e+02],\n",
       "       [ 2.05106418e-02, -8.19396436e-01,  3.59862907e+02],\n",
       "       [ 5.18263019e-05, -2.30003005e-03,  1.00000000e+00]])"
      ]
     },
     "execution_count": 30,
     "metadata": {},
     "output_type": "execute_result"
    }
   ],
   "source": [
    "H"
   ]
  },
  {
   "cell_type": "code",
   "execution_count": 31,
   "metadata": {},
   "outputs": [
    {
     "ename": "NameError",
     "evalue": "name 'transform' is not defined",
     "output_type": "error",
     "traceback": [
      "\u001b[1;31m---------------------------------------------------------------------------\u001b[0m",
      "\u001b[1;31mNameError\u001b[0m                                 Traceback (most recent call last)",
      "\u001b[1;32m<ipython-input-31-64c5963a67a7>\u001b[0m in \u001b[0;36m<module>\u001b[1;34m()\u001b[0m\n\u001b[1;32m----> 1\u001b[1;33m \u001b[0mcv2\u001b[0m\u001b[1;33m.\u001b[0m\u001b[0mimshow\u001b[0m\u001b[1;33m(\u001b[0m\u001b[1;34m\"warp\"\u001b[0m\u001b[1;33m,\u001b[0m\u001b[0mtransform\u001b[0m\u001b[1;33m.\u001b[0m\u001b[0mwarp\u001b[0m\u001b[1;33m(\u001b[0m\u001b[0mimage_right\u001b[0m\u001b[1;33m,\u001b[0m\u001b[0mH\u001b[0m\u001b[1;33m)\u001b[0m\u001b[1;33m)\u001b[0m\u001b[1;33m\u001b[0m\u001b[0m\n\u001b[0m",
      "\u001b[1;31mNameError\u001b[0m: name 'transform' is not defined"
     ]
    }
   ],
   "source": [
    "cv2.imshow(\"warp\",transform.warp(image_right,H))"
   ]
  },
  {
   "cell_type": "code",
   "execution_count": 106,
   "metadata": {},
   "outputs": [],
   "source": [
    "imageA=image_right\n",
    "imageB=image_left\n",
    "b=H.copy()\n",
    "\n",
    "\n",
    "result = cv2.warpPerspective(imageB, H,(imageA.shape[1] + imageB.shape[1], imageA.shape[0]))\n",
    "result[0:imageB.shape[0], 0:imageB.shape[1]] = imageB"
   ]
  },
  {
   "cell_type": "code",
   "execution_count": 107,
   "metadata": {},
   "outputs": [
    {
     "name": "stderr",
     "output_type": "stream",
     "text": [
      "D:\\Development\\Continuum\\anaconda3\\lib\\site-packages\\matplotlib\\pyplot.py:537: RuntimeWarning: More than 20 figures have been opened. Figures created through the pyplot interface (`matplotlib.pyplot.figure`) are retained until explicitly closed and may consume too much memory. (To control this warning, see the rcParam `figure.max_open_warning`).\n",
      "  max_open_warning, RuntimeWarning)\n",
      "Exception in Tkinter callback\n",
      "Traceback (most recent call last):\n",
      "  File \"D:\\Development\\Continuum\\anaconda3\\lib\\tkinter\\__init__.py\", line 1699, in __call__\n",
      "    return self.func(*args)\n",
      "  File \"D:\\Development\\Continuum\\anaconda3\\lib\\site-packages\\matplotlib\\backends\\_backend_tk.py\", line 227, in resize\n",
      "    self.draw()\n",
      "  File \"D:\\Development\\Continuum\\anaconda3\\lib\\site-packages\\matplotlib\\backends\\backend_tkagg.py\", line 12, in draw\n",
      "    super(FigureCanvasTkAgg, self).draw()\n",
      "  File \"D:\\Development\\Continuum\\anaconda3\\lib\\site-packages\\matplotlib\\backends\\backend_agg.py\", line 433, in draw\n",
      "    self.figure.draw(self.renderer)\n",
      "  File \"D:\\Development\\Continuum\\anaconda3\\lib\\site-packages\\matplotlib\\artist.py\", line 55, in draw_wrapper\n",
      "    return draw(artist, renderer, *args, **kwargs)\n",
      "  File \"D:\\Development\\Continuum\\anaconda3\\lib\\site-packages\\matplotlib\\figure.py\", line 1475, in draw\n",
      "    renderer, self, artists, self.suppressComposite)\n",
      "  File \"D:\\Development\\Continuum\\anaconda3\\lib\\site-packages\\matplotlib\\image.py\", line 141, in _draw_list_compositing_images\n",
      "    a.draw(renderer)\n",
      "  File \"D:\\Development\\Continuum\\anaconda3\\lib\\site-packages\\matplotlib\\artist.py\", line 55, in draw_wrapper\n",
      "    return draw(artist, renderer, *args, **kwargs)\n",
      "  File \"D:\\Development\\Continuum\\anaconda3\\lib\\site-packages\\matplotlib\\axes\\_base.py\", line 2607, in draw\n",
      "    mimage._draw_list_compositing_images(renderer, self, artists)\n",
      "  File \"D:\\Development\\Continuum\\anaconda3\\lib\\site-packages\\matplotlib\\image.py\", line 141, in _draw_list_compositing_images\n",
      "    a.draw(renderer)\n",
      "  File \"D:\\Development\\Continuum\\anaconda3\\lib\\site-packages\\matplotlib\\artist.py\", line 55, in draw_wrapper\n",
      "    return draw(artist, renderer, *args, **kwargs)\n",
      "  File \"D:\\Development\\Continuum\\anaconda3\\lib\\site-packages\\matplotlib\\axis.py\", line 1190, in draw\n",
      "    ticks_to_draw = self._update_ticks(renderer)\n",
      "  File \"D:\\Development\\Continuum\\anaconda3\\lib\\site-packages\\matplotlib\\axis.py\", line 1028, in _update_ticks\n",
      "    tick_tups = list(self.iter_ticks())  # iter_ticks calls the locator\n",
      "  File \"D:\\Development\\Continuum\\anaconda3\\lib\\site-packages\\matplotlib\\axis.py\", line 971, in iter_ticks\n",
      "    majorLocs = self.major.locator()\n",
      "  File \"D:\\Development\\Continuum\\anaconda3\\lib\\site-packages\\matplotlib\\ticker.py\", line 1945, in __call__\n",
      "    return self.tick_values(vmin, vmax)\n",
      "  File \"D:\\Development\\Continuum\\anaconda3\\lib\\site-packages\\matplotlib\\ticker.py\", line 1953, in tick_values\n",
      "    locs = self._raw_ticks(vmin, vmax)\n",
      "  File \"D:\\Development\\Continuum\\anaconda3\\lib\\site-packages\\matplotlib\\ticker.py\", line 1899, in _raw_ticks\n",
      "    nbins = np.clip(self.axis.get_tick_space(),\n",
      "  File \"D:\\Development\\Continuum\\anaconda3\\lib\\site-packages\\matplotlib\\axis.py\", line 2124, in get_tick_space\n",
      "    tick = self._get_tick(True)\n",
      "  File \"D:\\Development\\Continuum\\anaconda3\\lib\\site-packages\\matplotlib\\axis.py\", line 1792, in _get_tick\n",
      "    return XTick(self.axes, 0, '', major=major, **tick_kw)\n",
      "  File \"D:\\Development\\Continuum\\anaconda3\\lib\\site-packages\\matplotlib\\axis.py\", line 176, in __init__\n",
      "    self.tick1line = self._get_tick1line()\n",
      "  File \"D:\\Development\\Continuum\\anaconda3\\lib\\site-packages\\matplotlib\\axis.py\", line 474, in _get_tick1line\n",
      "    markeredgewidth=self._width, zorder=self._zorder)\n",
      "  File \"D:\\Development\\Continuum\\anaconda3\\lib\\site-packages\\matplotlib\\lines.py\", line 397, in __init__\n",
      "    self._marker = MarkerStyle(marker, fillstyle)\n",
      "  File \"D:\\Development\\Continuum\\anaconda3\\lib\\site-packages\\matplotlib\\markers.py\", line 189, in __init__\n",
      "    self.set_marker(marker)\n",
      "  File \"D:\\Development\\Continuum\\anaconda3\\lib\\site-packages\\matplotlib\\markers.py\", line 275, in set_marker\n",
      "    self._recache()\n",
      "  File \"D:\\Development\\Continuum\\anaconda3\\lib\\site-packages\\matplotlib\\markers.py\", line 211, in _recache\n",
      "    self._marker_function()\n",
      "  File \"D:\\Development\\Continuum\\anaconda3\\lib\\site-packages\\matplotlib\\markers.py\", line 723, in _set_tickdown\n",
      "    self._transform = Affine2D().scale(1.0, -1.0)\n",
      "  File \"D:\\Development\\Continuum\\anaconda3\\lib\\site-packages\\matplotlib\\transforms.py\", line 1932, in __init__\n",
      "    matrix = IdentityTransform._mtx.copy()\n",
      "KeyboardInterrupt\n"
     ]
    },
    {
     "ename": "KeyboardInterrupt",
     "evalue": "",
     "output_type": "error",
     "traceback": [
      "\u001b[1;31m---------------------------------------------------------------------------\u001b[0m",
      "\u001b[1;31mKeyboardInterrupt\u001b[0m                         Traceback (most recent call last)",
      "\u001b[1;32m<ipython-input-107-91c1240692a3>\u001b[0m in \u001b[0;36m<module>\u001b[1;34m()\u001b[0m\n\u001b[0;32m      1\u001b[0m \u001b[0mplt\u001b[0m\u001b[1;33m.\u001b[0m\u001b[0mfigure\u001b[0m\u001b[1;33m(\u001b[0m\u001b[0mfigsize\u001b[0m\u001b[1;33m=\u001b[0m\u001b[1;33m(\u001b[0m\u001b[1;36m20\u001b[0m\u001b[1;33m,\u001b[0m\u001b[1;36m20\u001b[0m\u001b[1;33m)\u001b[0m\u001b[1;33m)\u001b[0m\u001b[1;33m\u001b[0m\u001b[0m\n\u001b[0;32m      2\u001b[0m \u001b[0mplt\u001b[0m\u001b[1;33m.\u001b[0m\u001b[0mimshow\u001b[0m\u001b[1;33m(\u001b[0m\u001b[0mresult\u001b[0m\u001b[1;33m)\u001b[0m\u001b[1;33m\u001b[0m\u001b[0m\n\u001b[1;32m----> 3\u001b[1;33m \u001b[0mplt\u001b[0m\u001b[1;33m.\u001b[0m\u001b[0mshow\u001b[0m\u001b[1;33m(\u001b[0m\u001b[1;33m)\u001b[0m\u001b[1;33m\u001b[0m\u001b[0m\n\u001b[0m",
      "\u001b[1;32mD:\\Development\\Continuum\\anaconda3\\lib\\site-packages\\matplotlib\\pyplot.py\u001b[0m in \u001b[0;36mshow\u001b[1;34m(*args, **kw)\u001b[0m\n\u001b[0;32m    251\u001b[0m     \"\"\"\n\u001b[0;32m    252\u001b[0m     \u001b[1;32mglobal\u001b[0m \u001b[0m_show\u001b[0m\u001b[1;33m\u001b[0m\u001b[0m\n\u001b[1;32m--> 253\u001b[1;33m     \u001b[1;32mreturn\u001b[0m \u001b[0m_show\u001b[0m\u001b[1;33m(\u001b[0m\u001b[1;33m*\u001b[0m\u001b[0margs\u001b[0m\u001b[1;33m,\u001b[0m \u001b[1;33m**\u001b[0m\u001b[0mkw\u001b[0m\u001b[1;33m)\u001b[0m\u001b[1;33m\u001b[0m\u001b[0m\n\u001b[0m\u001b[0;32m    254\u001b[0m \u001b[1;33m\u001b[0m\u001b[0m\n\u001b[0;32m    255\u001b[0m \u001b[1;33m\u001b[0m\u001b[0m\n",
      "\u001b[1;32mD:\\Development\\Continuum\\anaconda3\\lib\\site-packages\\matplotlib\\backend_bases.py\u001b[0m in \u001b[0;36mshow\u001b[1;34m(cls, block)\u001b[0m\n\u001b[0;32m    206\u001b[0m                 \u001b[0mblock\u001b[0m \u001b[1;33m=\u001b[0m \u001b[1;32mTrue\u001b[0m\u001b[1;33m\u001b[0m\u001b[0m\n\u001b[0;32m    207\u001b[0m         \u001b[1;32mif\u001b[0m \u001b[0mblock\u001b[0m\u001b[1;33m:\u001b[0m\u001b[1;33m\u001b[0m\u001b[0m\n\u001b[1;32m--> 208\u001b[1;33m             \u001b[0mcls\u001b[0m\u001b[1;33m.\u001b[0m\u001b[0mmainloop\u001b[0m\u001b[1;33m(\u001b[0m\u001b[1;33m)\u001b[0m\u001b[1;33m\u001b[0m\u001b[0m\n\u001b[0m\u001b[0;32m    209\u001b[0m \u001b[1;33m\u001b[0m\u001b[0m\n\u001b[0;32m    210\u001b[0m     \u001b[1;31m# This method is the one actually exporting the required methods.\u001b[0m\u001b[1;33m\u001b[0m\u001b[1;33m\u001b[0m\u001b[0m\n",
      "\u001b[1;32mD:\\Development\\Continuum\\anaconda3\\lib\\site-packages\\matplotlib\\backends\\_backend_tk.py\u001b[0m in \u001b[0;36mmainloop\u001b[1;34m()\u001b[0m\n\u001b[0;32m   1071\u001b[0m     \u001b[1;33m@\u001b[0m\u001b[0mstaticmethod\u001b[0m\u001b[1;33m\u001b[0m\u001b[0m\n\u001b[0;32m   1072\u001b[0m     \u001b[1;32mdef\u001b[0m \u001b[0mmainloop\u001b[0m\u001b[1;33m(\u001b[0m\u001b[1;33m)\u001b[0m\u001b[1;33m:\u001b[0m\u001b[1;33m\u001b[0m\u001b[0m\n\u001b[1;32m-> 1073\u001b[1;33m         \u001b[0mTk\u001b[0m\u001b[1;33m.\u001b[0m\u001b[0mmainloop\u001b[0m\u001b[1;33m(\u001b[0m\u001b[1;33m)\u001b[0m\u001b[1;33m\u001b[0m\u001b[0m\n\u001b[0m",
      "\u001b[1;32mD:\\Development\\Continuum\\anaconda3\\lib\\tkinter\\__init__.py\u001b[0m in \u001b[0;36mmainloop\u001b[1;34m(n)\u001b[0m\n\u001b[0;32m    555\u001b[0m \u001b[1;32mdef\u001b[0m \u001b[0mmainloop\u001b[0m\u001b[1;33m(\u001b[0m\u001b[0mn\u001b[0m\u001b[1;33m=\u001b[0m\u001b[1;36m0\u001b[0m\u001b[1;33m)\u001b[0m\u001b[1;33m:\u001b[0m\u001b[1;33m\u001b[0m\u001b[0m\n\u001b[0;32m    556\u001b[0m     \u001b[1;34m\"\"\"Run the main loop of Tcl.\"\"\"\u001b[0m\u001b[1;33m\u001b[0m\u001b[0m\n\u001b[1;32m--> 557\u001b[1;33m     \u001b[0m_default_root\u001b[0m\u001b[1;33m.\u001b[0m\u001b[0mtk\u001b[0m\u001b[1;33m.\u001b[0m\u001b[0mmainloop\u001b[0m\u001b[1;33m(\u001b[0m\u001b[0mn\u001b[0m\u001b[1;33m)\u001b[0m\u001b[1;33m\u001b[0m\u001b[0m\n\u001b[0m\u001b[0;32m    558\u001b[0m \u001b[1;33m\u001b[0m\u001b[0m\n\u001b[0;32m    559\u001b[0m \u001b[0mgetint\u001b[0m \u001b[1;33m=\u001b[0m \u001b[0mint\u001b[0m\u001b[1;33m\u001b[0m\u001b[0m\n",
      "\u001b[1;31mKeyboardInterrupt\u001b[0m: "
     ]
    }
   ],
   "source": [
    "plt.figure(figsize=(20,20))\n",
    "plt.imshow(result)\n",
    "plt.show()"
   ]
  },
  {
   "cell_type": "code",
   "execution_count": 132,
   "metadata": {},
   "outputs": [],
   "source": [
    "im=image_right\n",
    "# This part will will calculate the X and Y offsets\n",
    "bunchX=[]; bunchY=[]\n",
    "\n",
    "tt = np.array([[1],[1],[1]])\n",
    "tmp = np.dot(H,tt)\n",
    "bunchX.append(tmp[0]/tmp[2])\n",
    "bunchY.append(tmp[1]/tmp[2])\n",
    "\n",
    "tt = np.array([[im.shape[1]],[1],[1]])\n",
    "tmp = np.dot(H,tt)\n",
    "bunchX.append(tmp[0]/tmp[2])\n",
    "bunchY.append(tmp[1]/tmp[2])\n",
    "\n",
    "tt = np.array([[1],[im.shape[0]],[1]])\n",
    "tmp = np.dot(H,tt)\n",
    "bunchX.append(tmp[0]/tmp[2])\n",
    "bunchY.append(tmp[1]/tmp[2])\n",
    "\n",
    "tt = np.array([[im.shape[1]],[im.shape[0]],[1]])\n",
    "tmp = np.dot(H,tt)\n",
    "bunchX.append(tmp[0]/tmp[2])\n",
    "bunchY.append(tmp[1]/tmp[2])\n",
    "\n",
    "refX1 = int(np.min(bunchX))\n",
    "refX2 = int(np.max(bunchX))\n",
    "refY1 = int(np.min(bunchY))\n",
    "refY2 = int(np.max(bunchY))\n",
    "\n",
    "# Final image whose size is defined by the offsets previously calculated\n",
    "final = np.zeros((int(refY2-refY1),int(refX2-refX1),3))\n",
    "# final = np.zeros((2000,2000,3))\n",
    "\n",
    "# Iterate over the imagine to transform every pixel\n",
    "for i in range(im.shape[0]):\n",
    "        for j in range(im.shape[1]):\n",
    "\n",
    "                tt = np.array([[j],[i],[1]])\n",
    "                tmp = np.dot(H,tt)\n",
    "                x1=int(tmp[0]/tmp[2])-refX1\n",
    "                y1=int(tmp[1]/tmp[2])-refY1\n",
    "\n",
    "                if x1>0 and y1>0 and y1<refY2-refY1 and x1<refX2-refX1:\n",
    "                        final[y1,x1,:]=im[i,j,:]\n",
    "# Hi = np.linalg.inv(H)\n",
    "# for i in range(final.shape[0]):\n",
    "#         for j in range(final.shape[1]):\n",
    "#                 if sum(final[i,j,:])==0:\n",
    "#                         tt = np.array([[j+refX1],[i+refY1],[1]])\n",
    "#                         tmp = np.dot(Hi,tt)\n",
    "#                         x1=int(tmp[0]/tmp[2])\n",
    "#                         y1=int(tmp[1]/tmp[2])\n",
    "\n",
    "#                         if x1>0 and y1>0 and x1<im.shape[1] and y1<im.shape[0]:\n",
    "#                                 final[i,j,:] = im[y1,x1,:]\n"
   ]
  },
  {
   "cell_type": "code",
   "execution_count": 48,
   "metadata": {},
   "outputs": [
    {
     "data": {
      "text/plain": [
       "array([[1037],\n",
       "       [ 456],\n",
       "       [   1]])"
      ]
     },
     "execution_count": 48,
     "metadata": {},
     "output_type": "execute_result"
    }
   ],
   "source": [
    "(tmp/tmp[2]).astype(int)"
   ]
  },
  {
   "cell_type": "code",
   "execution_count": 79,
   "metadata": {},
   "outputs": [
    {
     "data": {
      "text/plain": [
       "(1689, 2740, 3)"
      ]
     },
     "execution_count": 79,
     "metadata": {},
     "output_type": "execute_result"
    }
   ],
   "source": [
    "np.zeros((int(refY2-refY1),int(refX2-refX1),3)).shape\n"
   ]
  },
  {
   "cell_type": "code",
   "execution_count": 133,
   "metadata": {},
   "outputs": [],
   "source": [
    "plt.figure(figsize=(20,20))\n",
    "cv2.imshow(\"warp\",final.astype(np.uint8))\n"
   ]
  },
  {
   "cell_type": "code",
   "execution_count": 87,
   "metadata": {},
   "outputs": [
    {
     "name": "stdout",
     "output_type": "stream",
     "text": [
      "Homography is :  [[-9.85055676e-01 -2.74229971e-01  5.52053203e+02]\n",
      " [-9.65955728e-01 -1.67145082e+00  1.31712427e+03]\n",
      " [-1.24705458e-03 -1.23327803e-03  1.00000000e+00]]\n",
      "Inverse Homography : [[ 1.80253051e-01  1.55706817e+00 -2.15036154e+03]\n",
      " [ 2.59088179e+00  1.13586885e+00 -2.92638502e+03]\n",
      " [ 3.42006299e-03  3.34259108e-03 -5.29066457e+00]]\n",
      "image dsize => (388, 2586)\n"
     ]
    },
    {
     "ename": "ValueError",
     "evalue": "could not broadcast input array from shape (3,3) into shape (3,0,3)",
     "output_type": "error",
     "traceback": [
      "\u001b[1;31m---------------------------------------------------------------------------\u001b[0m",
      "\u001b[1;31mValueError\u001b[0m                                Traceback (most recent call last)",
      "\u001b[1;32m<ipython-input-87-3d26c4bf6600>\u001b[0m in \u001b[0;36m<module>\u001b[1;34m()\u001b[0m\n\u001b[0;32m     18\u001b[0m \u001b[0mcv2\u001b[0m\u001b[1;33m.\u001b[0m\u001b[0mimshow\u001b[0m\u001b[1;33m(\u001b[0m\u001b[1;34m\"warped\"\u001b[0m\u001b[1;33m,\u001b[0m \u001b[0mtmp\u001b[0m\u001b[1;33m)\u001b[0m\u001b[1;33m\u001b[0m\u001b[0m\n\u001b[0;32m     19\u001b[0m \u001b[1;31m# cv2.waitKey()\u001b[0m\u001b[1;33m\u001b[0m\u001b[1;33m\u001b[0m\u001b[0m\n\u001b[1;32m---> 20\u001b[1;33m \u001b[0mtmp\u001b[0m\u001b[1;33m[\u001b[0m\u001b[0moffsety\u001b[0m\u001b[1;33m:\u001b[0m\u001b[0mb\u001b[0m\u001b[1;33m.\u001b[0m\u001b[0mshape\u001b[0m\u001b[1;33m[\u001b[0m\u001b[1;36m0\u001b[0m\u001b[1;33m]\u001b[0m\u001b[1;33m+\u001b[0m\u001b[0moffsety\u001b[0m\u001b[1;33m,\u001b[0m \u001b[0moffsetx\u001b[0m\u001b[1;33m:\u001b[0m\u001b[0mb\u001b[0m\u001b[1;33m.\u001b[0m\u001b[0mshape\u001b[0m\u001b[1;33m[\u001b[0m\u001b[1;36m1\u001b[0m\u001b[1;33m]\u001b[0m\u001b[1;33m+\u001b[0m\u001b[0moffsetx\u001b[0m\u001b[1;33m]\u001b[0m \u001b[1;33m=\u001b[0m \u001b[0mb\u001b[0m\u001b[1;33m\u001b[0m\u001b[0m\n\u001b[0m\u001b[0;32m     21\u001b[0m \u001b[0ma\u001b[0m \u001b[1;33m=\u001b[0m \u001b[0mtmp\u001b[0m\u001b[1;33m\u001b[0m\u001b[0m\n",
      "\u001b[1;31mValueError\u001b[0m: could not broadcast input array from shape (3,3) into shape (3,0,3)"
     ]
    }
   ],
   "source": [
    "a=image_left\n",
    "print (\"Homography is : \", H)\n",
    "xh = np.linalg.inv(H)\n",
    "print (\"Inverse Homography :\", xh)\n",
    "# start_p is denoted by f1\n",
    "f1 = np.dot(xh, np.array([0,0,1]))\n",
    "f1 = f1/f1[-1]\n",
    "# transforming the matrix \n",
    "xh[0][-1] += abs(f1[0])\n",
    "xh[1][-1] += abs(f1[1])\n",
    "ds = np.dot(xh, np.array([a.shape[1], a.shape[0], 1]))\n",
    "offsety = abs(int(f1[1]))\n",
    "offsetx = abs(int(f1[0]))\n",
    "# dimension of warped image\n",
    "dsize = (int(ds[0])+offsetx, int(ds[1]) + offsety)\n",
    "print (\"image dsize =>\", dsize)\n",
    "tmp = cv2.warpPerspective(a, H, dsize)\n",
    "cv2.imshow(\"warped\", tmp)\n",
    "# cv2.waitKey()\n",
    "tmp[offsety:b.shape[0]+offsety, offsetx:b.shape[1]+offsetx] = b\n",
    "a = tmp\n"
   ]
  },
  {
   "cell_type": "code",
   "execution_count": null,
   "metadata": {},
   "outputs": [],
   "source": [
    "np.unique(final)"
   ]
  },
  {
   "cell_type": "code",
   "execution_count": 15,
   "metadata": {},
   "outputs": [
    {
     "data": {
      "text/plain": [
       "-654.2411261813959"
      ]
     },
     "execution_count": 15,
     "metadata": {},
     "output_type": "execute_result"
    }
   ],
   "source": [
    "np.min(np.dot(im,H))"
   ]
  },
  {
   "cell_type": "code",
   "execution_count": 9,
   "metadata": {},
   "outputs": [
    {
     "data": {
      "text/plain": [
       "(12, 240, 3)"
      ]
     },
     "execution_count": 9,
     "metadata": {},
     "output_type": "execute_result"
    }
   ],
   "source": [
    "final.shape"
   ]
  },
  {
   "cell_type": "code",
   "execution_count": 39,
   "metadata": {},
   "outputs": [
    {
     "name": "stdout",
     "output_type": "stream",
     "text": [
      "ERROR! Session/line number was not unique in database. History logging moved to new session 1337\n"
     ]
    },
    {
     "data": {
      "text/plain": [
       "array([  0,   1,   2,   3,   4,   5,   6,   7,   8,   9,  10,  11,  12,\n",
       "        13,  14,  15,  16,  17,  18,  19,  20,  21,  22,  23,  24,  25,\n",
       "        26,  27,  28,  29,  30,  31,  32,  33,  34,  35,  36,  37,  38,\n",
       "        39,  40,  41,  42,  43,  44,  45,  46,  47,  48,  49,  50,  51,\n",
       "        52,  53,  54,  55,  56,  57,  58,  59,  60,  61,  62,  63,  64,\n",
       "        65,  66,  67,  68,  69,  70,  71,  72,  73,  74,  75,  76,  77,\n",
       "        78,  79,  80,  81,  82,  83,  84,  85,  86,  87,  88,  89,  90,\n",
       "        91,  92,  93,  94,  95,  96,  97,  98,  99, 100, 101, 102, 103,\n",
       "       104, 105, 106, 107, 108, 109, 110, 111, 112, 113, 114, 115, 116,\n",
       "       117, 118, 119, 120, 121, 122, 123, 124, 125, 126, 127, 128, 129,\n",
       "       130, 131, 132, 133, 134, 135, 136, 137, 138, 139, 140, 141, 142,\n",
       "       143, 144, 145, 146, 147, 148, 149, 150, 151, 152, 153, 154, 155,\n",
       "       156, 157, 158, 159, 160, 161, 162, 163, 164, 165, 166, 167, 168,\n",
       "       169, 170, 171, 172, 173, 174, 175, 176, 177, 178, 179, 180, 181,\n",
       "       182, 183, 184, 185, 186, 187, 188, 189, 190, 191, 192, 193, 194,\n",
       "       195, 196, 197, 198, 199, 200, 201, 202, 203, 204, 205, 206, 207,\n",
       "       208, 209, 210, 211, 212, 213, 214, 215, 216, 217, 218, 219, 220,\n",
       "       221, 222, 223, 224, 225, 226, 227, 228, 229, 230, 231, 232, 233,\n",
       "       234, 235, 236, 237, 238, 239, 240, 241, 242, 243, 244, 245, 246,\n",
       "       247, 248, 249, 250, 251, 252, 253, 254, 255], dtype=uint8)"
      ]
     },
     "execution_count": 39,
     "metadata": {},
     "output_type": "execute_result"
    }
   ],
   "source": [
    "np.unique(im)"
   ]
  },
  {
   "cell_type": "code",
   "execution_count": 41,
   "metadata": {},
   "outputs": [
    {
     "ename": "KeyboardInterrupt",
     "evalue": "",
     "output_type": "error",
     "traceback": [
      "\u001b[1;31m---------------------------------------------------------------------------\u001b[0m",
      "\u001b[1;31mKeyboardInterrupt\u001b[0m                         Traceback (most recent call last)",
      "\u001b[1;32m<ipython-input-41-60efdd72b8b7>\u001b[0m in \u001b[0;36m<module>\u001b[1;34m()\u001b[0m\n\u001b[0;32m      2\u001b[0m \u001b[1;33m\u001b[0m\u001b[0m\n\u001b[0;32m      3\u001b[0m \u001b[0mplt\u001b[0m\u001b[1;33m.\u001b[0m\u001b[0mimshow\u001b[0m\u001b[1;33m(\u001b[0m\u001b[0mfinal\u001b[0m\u001b[1;33m.\u001b[0m\u001b[0mastype\u001b[0m\u001b[1;33m(\u001b[0m\u001b[0mnp\u001b[0m\u001b[1;33m.\u001b[0m\u001b[0muint8\u001b[0m\u001b[1;33m)\u001b[0m\u001b[1;33m)\u001b[0m\u001b[1;33m\u001b[0m\u001b[0m\n\u001b[1;32m----> 4\u001b[1;33m \u001b[0mplt\u001b[0m\u001b[1;33m.\u001b[0m\u001b[0mshow\u001b[0m\u001b[1;33m(\u001b[0m\u001b[1;33m)\u001b[0m\u001b[1;33m\u001b[0m\u001b[0m\n\u001b[0m",
      "\u001b[1;32m~\\Anaconda3\\lib\\site-packages\\matplotlib\\pyplot.py\u001b[0m in \u001b[0;36mshow\u001b[1;34m(*args, **kw)\u001b[0m\n\u001b[0;32m    251\u001b[0m     \"\"\"\n\u001b[0;32m    252\u001b[0m     \u001b[1;32mglobal\u001b[0m \u001b[0m_show\u001b[0m\u001b[1;33m\u001b[0m\u001b[0m\n\u001b[1;32m--> 253\u001b[1;33m     \u001b[1;32mreturn\u001b[0m \u001b[0m_show\u001b[0m\u001b[1;33m(\u001b[0m\u001b[1;33m*\u001b[0m\u001b[0margs\u001b[0m\u001b[1;33m,\u001b[0m \u001b[1;33m**\u001b[0m\u001b[0mkw\u001b[0m\u001b[1;33m)\u001b[0m\u001b[1;33m\u001b[0m\u001b[0m\n\u001b[0m\u001b[0;32m    254\u001b[0m \u001b[1;33m\u001b[0m\u001b[0m\n\u001b[0;32m    255\u001b[0m \u001b[1;33m\u001b[0m\u001b[0m\n",
      "\u001b[1;32m~\\Anaconda3\\lib\\site-packages\\matplotlib\\backend_bases.py\u001b[0m in \u001b[0;36mshow\u001b[1;34m(cls, block)\u001b[0m\n\u001b[0;32m    206\u001b[0m                 \u001b[0mblock\u001b[0m \u001b[1;33m=\u001b[0m \u001b[1;32mTrue\u001b[0m\u001b[1;33m\u001b[0m\u001b[0m\n\u001b[0;32m    207\u001b[0m         \u001b[1;32mif\u001b[0m \u001b[0mblock\u001b[0m\u001b[1;33m:\u001b[0m\u001b[1;33m\u001b[0m\u001b[0m\n\u001b[1;32m--> 208\u001b[1;33m             \u001b[0mcls\u001b[0m\u001b[1;33m.\u001b[0m\u001b[0mmainloop\u001b[0m\u001b[1;33m(\u001b[0m\u001b[1;33m)\u001b[0m\u001b[1;33m\u001b[0m\u001b[0m\n\u001b[0m\u001b[0;32m    209\u001b[0m \u001b[1;33m\u001b[0m\u001b[0m\n\u001b[0;32m    210\u001b[0m     \u001b[1;31m# This method is the one actually exporting the required methods.\u001b[0m\u001b[1;33m\u001b[0m\u001b[1;33m\u001b[0m\u001b[0m\n",
      "\u001b[1;32m~\\Anaconda3\\lib\\site-packages\\matplotlib\\backends\\_backend_tk.py\u001b[0m in \u001b[0;36mmainloop\u001b[1;34m()\u001b[0m\n\u001b[0;32m   1073\u001b[0m     \u001b[1;33m@\u001b[0m\u001b[0mstaticmethod\u001b[0m\u001b[1;33m\u001b[0m\u001b[0m\n\u001b[0;32m   1074\u001b[0m     \u001b[1;32mdef\u001b[0m \u001b[0mmainloop\u001b[0m\u001b[1;33m(\u001b[0m\u001b[1;33m)\u001b[0m\u001b[1;33m:\u001b[0m\u001b[1;33m\u001b[0m\u001b[0m\n\u001b[1;32m-> 1075\u001b[1;33m         \u001b[0mTk\u001b[0m\u001b[1;33m.\u001b[0m\u001b[0mmainloop\u001b[0m\u001b[1;33m(\u001b[0m\u001b[1;33m)\u001b[0m\u001b[1;33m\u001b[0m\u001b[0m\n\u001b[0m",
      "\u001b[1;32m~\\Anaconda3\\lib\\tkinter\\__init__.py\u001b[0m in \u001b[0;36mmainloop\u001b[1;34m(n)\u001b[0m\n\u001b[0;32m    555\u001b[0m \u001b[1;32mdef\u001b[0m \u001b[0mmainloop\u001b[0m\u001b[1;33m(\u001b[0m\u001b[0mn\u001b[0m\u001b[1;33m=\u001b[0m\u001b[1;36m0\u001b[0m\u001b[1;33m)\u001b[0m\u001b[1;33m:\u001b[0m\u001b[1;33m\u001b[0m\u001b[0m\n\u001b[0;32m    556\u001b[0m     \u001b[1;34m\"\"\"Run the main loop of Tcl.\"\"\"\u001b[0m\u001b[1;33m\u001b[0m\u001b[0m\n\u001b[1;32m--> 557\u001b[1;33m     \u001b[0m_default_root\u001b[0m\u001b[1;33m.\u001b[0m\u001b[0mtk\u001b[0m\u001b[1;33m.\u001b[0m\u001b[0mmainloop\u001b[0m\u001b[1;33m(\u001b[0m\u001b[0mn\u001b[0m\u001b[1;33m)\u001b[0m\u001b[1;33m\u001b[0m\u001b[0m\n\u001b[0m\u001b[0;32m    558\u001b[0m \u001b[1;33m\u001b[0m\u001b[0m\n\u001b[0;32m    559\u001b[0m \u001b[0mgetint\u001b[0m \u001b[1;33m=\u001b[0m \u001b[0mint\u001b[0m\u001b[1;33m\u001b[0m\u001b[0m\n",
      "\u001b[1;31mKeyboardInterrupt\u001b[0m: "
     ]
    },
    {
     "ename": "KeyboardInterrupt",
     "evalue": "",
     "output_type": "error",
     "traceback": [
      "\u001b[1;31m---------------------------------------------------------------------------\u001b[0m",
      "\u001b[1;31mKeyboardInterrupt\u001b[0m                         Traceback (most recent call last)",
      "\u001b[1;32m<ipython-input-39-eb9ef9602f61>\u001b[0m in \u001b[0;36m<module>\u001b[1;34m()\u001b[0m\n\u001b[0;32m      2\u001b[0m \u001b[1;33m\u001b[0m\u001b[0m\n\u001b[0;32m      3\u001b[0m \u001b[0mplt\u001b[0m\u001b[1;33m.\u001b[0m\u001b[0mimshow\u001b[0m\u001b[1;33m(\u001b[0m\u001b[0mim\u001b[0m\u001b[1;33m)\u001b[0m\u001b[1;33m\u001b[0m\u001b[0m\n\u001b[1;32m----> 4\u001b[1;33m \u001b[0mplt\u001b[0m\u001b[1;33m.\u001b[0m\u001b[0mshow\u001b[0m\u001b[1;33m(\u001b[0m\u001b[1;33m)\u001b[0m\u001b[1;33m\u001b[0m\u001b[0m\n\u001b[0m",
      "\u001b[1;32m~\\Anaconda3\\lib\\site-packages\\matplotlib\\pyplot.py\u001b[0m in \u001b[0;36mshow\u001b[1;34m(*args, **kw)\u001b[0m\n\u001b[0;32m    251\u001b[0m     \"\"\"\n\u001b[0;32m    252\u001b[0m     \u001b[1;32mglobal\u001b[0m \u001b[0m_show\u001b[0m\u001b[1;33m\u001b[0m\u001b[0m\n\u001b[1;32m--> 253\u001b[1;33m     \u001b[1;32mreturn\u001b[0m \u001b[0m_show\u001b[0m\u001b[1;33m(\u001b[0m\u001b[1;33m*\u001b[0m\u001b[0margs\u001b[0m\u001b[1;33m,\u001b[0m \u001b[1;33m**\u001b[0m\u001b[0mkw\u001b[0m\u001b[1;33m)\u001b[0m\u001b[1;33m\u001b[0m\u001b[0m\n\u001b[0m\u001b[0;32m    254\u001b[0m \u001b[1;33m\u001b[0m\u001b[0m\n\u001b[0;32m    255\u001b[0m \u001b[1;33m\u001b[0m\u001b[0m\n",
      "\u001b[1;32m~\\Anaconda3\\lib\\site-packages\\matplotlib\\backend_bases.py\u001b[0m in \u001b[0;36mshow\u001b[1;34m(cls, block)\u001b[0m\n\u001b[0;32m    206\u001b[0m                 \u001b[0mblock\u001b[0m \u001b[1;33m=\u001b[0m \u001b[1;32mTrue\u001b[0m\u001b[1;33m\u001b[0m\u001b[0m\n\u001b[0;32m    207\u001b[0m         \u001b[1;32mif\u001b[0m \u001b[0mblock\u001b[0m\u001b[1;33m:\u001b[0m\u001b[1;33m\u001b[0m\u001b[0m\n\u001b[1;32m--> 208\u001b[1;33m             \u001b[0mcls\u001b[0m\u001b[1;33m.\u001b[0m\u001b[0mmainloop\u001b[0m\u001b[1;33m(\u001b[0m\u001b[1;33m)\u001b[0m\u001b[1;33m\u001b[0m\u001b[0m\n\u001b[0m\u001b[0;32m    209\u001b[0m \u001b[1;33m\u001b[0m\u001b[0m\n\u001b[0;32m    210\u001b[0m     \u001b[1;31m# This method is the one actually exporting the required methods.\u001b[0m\u001b[1;33m\u001b[0m\u001b[1;33m\u001b[0m\u001b[0m\n",
      "\u001b[1;32m~\\Anaconda3\\lib\\site-packages\\matplotlib\\backends\\_backend_tk.py\u001b[0m in \u001b[0;36mmainloop\u001b[1;34m()\u001b[0m\n\u001b[0;32m   1073\u001b[0m     \u001b[1;33m@\u001b[0m\u001b[0mstaticmethod\u001b[0m\u001b[1;33m\u001b[0m\u001b[0m\n\u001b[0;32m   1074\u001b[0m     \u001b[1;32mdef\u001b[0m \u001b[0mmainloop\u001b[0m\u001b[1;33m(\u001b[0m\u001b[1;33m)\u001b[0m\u001b[1;33m:\u001b[0m\u001b[1;33m\u001b[0m\u001b[0m\n\u001b[1;32m-> 1075\u001b[1;33m         \u001b[0mTk\u001b[0m\u001b[1;33m.\u001b[0m\u001b[0mmainloop\u001b[0m\u001b[1;33m(\u001b[0m\u001b[1;33m)\u001b[0m\u001b[1;33m\u001b[0m\u001b[0m\n\u001b[0m",
      "\u001b[1;32m~\\Anaconda3\\lib\\tkinter\\__init__.py\u001b[0m in \u001b[0;36mmainloop\u001b[1;34m(n)\u001b[0m\n\u001b[0;32m    555\u001b[0m \u001b[1;32mdef\u001b[0m \u001b[0mmainloop\u001b[0m\u001b[1;33m(\u001b[0m\u001b[0mn\u001b[0m\u001b[1;33m=\u001b[0m\u001b[1;36m0\u001b[0m\u001b[1;33m)\u001b[0m\u001b[1;33m:\u001b[0m\u001b[1;33m\u001b[0m\u001b[0m\n\u001b[0;32m    556\u001b[0m     \u001b[1;34m\"\"\"Run the main loop of Tcl.\"\"\"\u001b[0m\u001b[1;33m\u001b[0m\u001b[0m\n\u001b[1;32m--> 557\u001b[1;33m     \u001b[0m_default_root\u001b[0m\u001b[1;33m.\u001b[0m\u001b[0mtk\u001b[0m\u001b[1;33m.\u001b[0m\u001b[0mmainloop\u001b[0m\u001b[1;33m(\u001b[0m\u001b[0mn\u001b[0m\u001b[1;33m)\u001b[0m\u001b[1;33m\u001b[0m\u001b[0m\n\u001b[0m\u001b[0;32m    558\u001b[0m \u001b[1;33m\u001b[0m\u001b[0m\n\u001b[0;32m    559\u001b[0m \u001b[0mgetint\u001b[0m \u001b[1;33m=\u001b[0m \u001b[0mint\u001b[0m\u001b[1;33m\u001b[0m\u001b[0m\n",
      "\u001b[1;32m~\\Anaconda3\\lib\\tkinter\\__init__.py\u001b[0m in \u001b[0;36m__call__\u001b[1;34m(self, *args)\u001b[0m\n\u001b[0;32m   1692\u001b[0m         \u001b[0mself\u001b[0m\u001b[1;33m.\u001b[0m\u001b[0msubst\u001b[0m \u001b[1;33m=\u001b[0m \u001b[0msubst\u001b[0m\u001b[1;33m\u001b[0m\u001b[0m\n\u001b[0;32m   1693\u001b[0m         \u001b[0mself\u001b[0m\u001b[1;33m.\u001b[0m\u001b[0mwidget\u001b[0m \u001b[1;33m=\u001b[0m \u001b[0mwidget\u001b[0m\u001b[1;33m\u001b[0m\u001b[0m\n\u001b[1;32m-> 1694\u001b[1;33m     \u001b[1;32mdef\u001b[0m \u001b[0m__call__\u001b[0m\u001b[1;33m(\u001b[0m\u001b[0mself\u001b[0m\u001b[1;33m,\u001b[0m \u001b[1;33m*\u001b[0m\u001b[0margs\u001b[0m\u001b[1;33m)\u001b[0m\u001b[1;33m:\u001b[0m\u001b[1;33m\u001b[0m\u001b[0m\n\u001b[0m\u001b[0;32m   1695\u001b[0m         \u001b[1;34m\"\"\"Apply first function SUBST to arguments, than FUNC.\"\"\"\u001b[0m\u001b[1;33m\u001b[0m\u001b[0m\n\u001b[0;32m   1696\u001b[0m         \u001b[1;32mtry\u001b[0m\u001b[1;33m:\u001b[0m\u001b[1;33m\u001b[0m\u001b[0m\n",
      "\u001b[1;31mKeyboardInterrupt\u001b[0m: "
     ]
    }
   ],
   "source": []
  },
  {
   "cell_type": "code",
   "execution_count": null,
   "metadata": {},
   "outputs": [],
   "source": [
    "np.dot(im,H)"
   ]
  },
  {
   "cell_type": "code",
   "execution_count": 63,
   "metadata": {},
   "outputs": [
    {
     "data": {
      "text/plain": [
       "(array([[ 1.88912702e-01, -1.21982256e-01,  3.80739984e+02],\n",
       "        [-9.54645115e-01,  1.08769673e+00,  6.92690398e+02],\n",
       "        [-1.02313781e-03,  1.21423021e-03,  1.00000000e+00]]), array([[1],\n",
       "        [1],\n",
       "        [1],\n",
       "        [1],\n",
       "        [1]], dtype=uint8))"
      ]
     },
     "execution_count": 63,
     "metadata": {},
     "output_type": "execute_result"
    }
   ],
   "source": [
    "\n",
    "H"
   ]
  },
  {
   "cell_type": "code",
   "execution_count": 66,
   "metadata": {},
   "outputs": [
    {
     "data": {
      "text/plain": [
       "(960, 1280, 3)"
      ]
     },
     "execution_count": 66,
     "metadata": {},
     "output_type": "execute_result"
    }
   ],
   "source": [
    "image_right.shape"
   ]
  },
  {
   "cell_type": "code",
   "execution_count": 142,
   "metadata": {},
   "outputs": [],
   "source": [
    "plt.figure(figsize=(20,20))\n",
    "# cv2.imshow(\"warped\",cv2.warpPerspective(image_right,h, (image_right.shape[1],(image_right.shape[0]+image_left.shape[0]))))\n",
    "final=cv2.warpPerspective(image_right,h_cv2, (image_right.shape[1],(image_right.shape[0]+image_left.shape[0])))"
   ]
  },
  {
   "cell_type": "code",
   "execution_count": 108,
   "metadata": {},
   "outputs": [],
   "source": [
    "warp=cv2.warpPerspective(image_right,H, (image_right.shape[1],(image_right.shape[0]+image_left.shape[0])))\n",
    "cv2.imshow(\"falanfian\",warp)"
   ]
  },
  {
   "cell_type": "code",
   "execution_count": 125,
   "metadata": {},
   "outputs": [],
   "source": [
    "final=np.dot(np.dot(np.linalg.inv(t2),H),t1).astype(np.uint8)"
   ]
  },
  {
   "cell_type": "code",
   "execution_count": 143,
   "metadata": {},
   "outputs": [],
   "source": []
  },
  {
   "cell_type": "code",
   "execution_count": 144,
   "metadata": {},
   "outputs": [
    {
     "data": {
      "text/plain": [
       "(1920, 1280, 3)"
      ]
     },
     "execution_count": 144,
     "metadata": {},
     "output_type": "execute_result"
    }
   ],
   "source": [
    "final_res_img.shape"
   ]
  },
  {
   "cell_type": "code",
   "execution_count": 145,
   "metadata": {},
   "outputs": [],
   "source": [
    "final_res_img=np.zeros((max(image_left.shape[0],final.shape[0]),max(image_left.shape[1],final.shape[1]),3),dtype=np.uint8)\n",
    "for j in range(final_res_img.shape[0]):\n",
    "    for i in range(final_res_img.shape[1]):\n",
    "        if j<image_left.shape[0] and i<image_left.shape[1]:\n",
    "            if np.sum(image_left[j,i,:])>np.sum(final[j,i,:]):                                             \n",
    "                final_res_img[j,i]=image_left[j,i]\n",
    "            else:\n",
    "                final_res_img[j,i]=final[j,i]\n",
    "                                                "
   ]
  },
  {
   "cell_type": "code",
   "execution_count": 115,
   "metadata": {},
   "outputs": [
    {
     "ename": "ValueError",
     "evalue": "could not broadcast input array from shape (1252,1852,3) into shape (292,572,3)",
     "output_type": "error",
     "traceback": [
      "\u001b[1;31m---------------------------------------------------------------------------\u001b[0m",
      "\u001b[1;31mValueError\u001b[0m                                Traceback (most recent call last)",
      "\u001b[1;32m<ipython-input-115-674b8b8c813e>\u001b[0m in \u001b[0;36m<module>\u001b[1;34m()\u001b[0m\n\u001b[0;32m      1\u001b[0m \u001b[0mfinal_res_img\u001b[0m\u001b[1;33m[\u001b[0m\u001b[1;36m0\u001b[0m\u001b[1;33m:\u001b[0m\u001b[0mimage_left\u001b[0m\u001b[1;33m.\u001b[0m\u001b[0mshape\u001b[0m\u001b[1;33m[\u001b[0m\u001b[1;36m0\u001b[0m\u001b[1;33m]\u001b[0m\u001b[1;33m,\u001b[0m\u001b[1;36m0\u001b[0m\u001b[1;33m:\u001b[0m\u001b[0mimage_left\u001b[0m\u001b[1;33m.\u001b[0m\u001b[0mshape\u001b[0m\u001b[1;33m[\u001b[0m\u001b[1;36m1\u001b[0m\u001b[1;33m]\u001b[0m\u001b[1;33m]\u001b[0m\u001b[1;33m=\u001b[0m\u001b[0mimage_left\u001b[0m\u001b[1;33m\u001b[0m\u001b[0m\n\u001b[1;32m----> 2\u001b[1;33m \u001b[0mfinal_res_img\u001b[0m\u001b[1;33m[\u001b[0m\u001b[0mimage_left\u001b[0m\u001b[1;33m.\u001b[0m\u001b[0mshape\u001b[0m\u001b[1;33m[\u001b[0m\u001b[1;36m0\u001b[0m\u001b[1;33m]\u001b[0m\u001b[1;33m:\u001b[0m\u001b[1;33m,\u001b[0m\u001b[0mimage_left\u001b[0m\u001b[1;33m.\u001b[0m\u001b[0mshape\u001b[0m\u001b[1;33m[\u001b[0m\u001b[1;36m1\u001b[0m\u001b[1;33m]\u001b[0m\u001b[1;33m:\u001b[0m\u001b[1;33m]\u001b[0m\u001b[1;33m=\u001b[0m\u001b[0mfinal\u001b[0m\u001b[1;33m\u001b[0m\u001b[0m\n\u001b[0m",
      "\u001b[1;31mValueError\u001b[0m: could not broadcast input array from shape (1252,1852,3) into shape (292,572,3)"
     ]
    }
   ],
   "source": [
    "final_res_img[0:image_left.shape[0],0:image_left.shape[1]]=image_left\n",
    "final_res_img[image_left.shape[0]:,image_left.shape[1]:]=final"
   ]
  },
  {
   "cell_type": "code",
   "execution_count": 146,
   "metadata": {},
   "outputs": [],
   "source": []
  },
  {
   "cell_type": "code",
   "execution_count": 78,
   "metadata": {},
   "outputs": [],
   "source": [
    "cv2.imshow(\"warp2\",np.)"
   ]
  },
  {
   "cell_type": "code",
   "execution_count": 129,
   "metadata": {},
   "outputs": [],
   "source": [
    "cv2.imshow(\"warp2\",final)"
   ]
  },
  {
   "cell_type": "code",
   "execution_count": 40,
   "metadata": {},
   "outputs": [
    {
     "ename": "NameError",
     "evalue": "name 'get_stitched_image' is not defined",
     "output_type": "error",
     "traceback": [
      "\u001b[0;31m---------------------------------------------------------------------------\u001b[0m",
      "\u001b[0;31mNameError\u001b[0m                                 Traceback (most recent call last)",
      "\u001b[0;32m<ipython-input-40-face286469cc>\u001b[0m in \u001b[0;36m<module>\u001b[0;34m()\u001b[0m\n\u001b[0;32m----> 1\u001b[0;31m \u001b[0mres\u001b[0m\u001b[0;34m=\u001b[0m\u001b[0mget_stitched_image\u001b[0m\u001b[0;34m(\u001b[0m\u001b[0mimageA\u001b[0m\u001b[0;34m,\u001b[0m\u001b[0mimageB\u001b[0m\u001b[0;34m,\u001b[0m\u001b[0mM\u001b[0m\u001b[0;34m)\u001b[0m\u001b[0;34m\u001b[0m\u001b[0m\n\u001b[0m\u001b[1;32m      2\u001b[0m \u001b[0mplt\u001b[0m\u001b[0;34m.\u001b[0m\u001b[0mfigure\u001b[0m\u001b[0;34m(\u001b[0m\u001b[0mfigsize\u001b[0m\u001b[0;34m=\u001b[0m\u001b[0;34m(\u001b[0m\u001b[0;36m20\u001b[0m\u001b[0;34m,\u001b[0m\u001b[0;36m20\u001b[0m\u001b[0;34m)\u001b[0m\u001b[0;34m)\u001b[0m\u001b[0;34m\u001b[0m\u001b[0m\n\u001b[1;32m      3\u001b[0m \u001b[0mplt\u001b[0m\u001b[0;34m.\u001b[0m\u001b[0mimshow\u001b[0m\u001b[0;34m(\u001b[0m\u001b[0mres\u001b[0m\u001b[0;34m)\u001b[0m\u001b[0;34m\u001b[0m\u001b[0m\n\u001b[1;32m      4\u001b[0m \u001b[0;34m\u001b[0m\u001b[0m\n\u001b[1;32m      5\u001b[0m \u001b[0mplt\u001b[0m\u001b[0;34m.\u001b[0m\u001b[0mshow\u001b[0m\u001b[0;34m(\u001b[0m\u001b[0;34m)\u001b[0m\u001b[0;34m\u001b[0m\u001b[0m\n",
      "\u001b[0;31mNameError\u001b[0m: name 'get_stitched_image' is not defined"
     ]
    }
   ],
   "source": [
    "res=get_stitched_image(imageA,imageB,M)\n",
    "plt.figure(figsize=(20,20))\n",
    "plt.imshow(res)\n",
    "\n",
    "plt.show()"
   ]
  },
  {
   "cell_type": "code",
   "execution_count": null,
   "metadata": {},
   "outputs": [],
   "source": []
  },
  {
   "cell_type": "code",
   "execution_count": null,
   "metadata": {},
   "outputs": [],
   "source": []
  }
 ],
 "metadata": {
  "kernelspec": {
   "display_name": "Python 3",
   "language": "python",
   "name": "python3"
  },
  "language_info": {
   "codemirror_mode": {
    "name": "ipython",
    "version": 3
   },
   "file_extension": ".py",
   "mimetype": "text/x-python",
   "name": "python",
   "nbconvert_exporter": "python",
   "pygments_lexer": "ipython3",
   "version": "3.6.2"
  }
 },
 "nbformat": 4,
 "nbformat_minor": 2
}

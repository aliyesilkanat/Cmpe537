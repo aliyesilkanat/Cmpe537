{
 "cells": [
  {
   "cell_type": "code",
   "execution_count": 5,
   "metadata": {},
   "outputs": [],
   "source": [
    "import numpy as np\n",
    "import matplotlib.pyplot as plt"
   ]
  },
  {
   "cell_type": "code",
   "execution_count": 2,
   "metadata": {},
   "outputs": [],
   "source": [
    "x_y=np.random.randint(0,256,size=(500,300))"
   ]
  },
  {
   "cell_type": "code",
   "execution_count": 17,
   "metadata": {},
   "outputs": [
    {
     "data": {
      "text/plain": [
       "(500, 300, 1)"
      ]
     },
     "execution_count": 17,
     "metadata": {},
     "output_type": "execute_result"
    }
   ],
   "source": [
    "H=np.random.random(size=(3,3))\n",
    "H[2,2]=1\n",
    "H\n",
    "np.expand_dims(x_y,axis=2).shape\n"
   ]
  },
  {
   "cell_type": "code",
   "execution_count": 18,
   "metadata": {},
   "outputs": [
    {
     "ename": "ValueError",
     "evalue": "shapes (500,300) and (3,3) not aligned: 300 (dim 1) != 3 (dim 0)",
     "output_type": "error",
     "traceback": [
      "\u001b[1;31m---------------------------------------------------------------------------\u001b[0m",
      "\u001b[1;31mValueError\u001b[0m                                Traceback (most recent call last)",
      "\u001b[1;32m<ipython-input-18-3d1b785312bb>\u001b[0m in \u001b[0;36m<module>\u001b[1;34m()\u001b[0m\n\u001b[1;32m----> 1\u001b[1;33m \u001b[0mnp\u001b[0m\u001b[1;33m.\u001b[0m\u001b[0mdot\u001b[0m\u001b[1;33m(\u001b[0m\u001b[0mx_y\u001b[0m\u001b[1;33m,\u001b[0m\u001b[0mH\u001b[0m\u001b[1;33m)\u001b[0m\u001b[1;33m\u001b[0m\u001b[0m\n\u001b[0m",
      "\u001b[1;31mValueError\u001b[0m: shapes (500,300) and (3,3) not aligned: 300 (dim 1) != 3 (dim 0)"
     ]
    }
   ],
   "source": [
    "np.dot(x_y,H)"
   ]
  },
  {
   "cell_type": "code",
   "execution_count": 2,
   "metadata": {},
   "outputs": [],
   "source": [
    "import matplotlib\n",
    "matplotlib.use('TkAgg')\n",
    "\n",
    "import matplotlib.pyplot as plt\n",
    "\n",
    "import cv2\n",
    "import numpy as np\n",
    "import math\n",
    "import matplotlib.image as mpimg\n",
    "import itertools\n",
    "import sys\n",
    "\n",
    "\n",
    "\n",
    "#fileA = raw_input(\"Please insert the file name for the first image: \")\n",
    "#fileB = raw_input(\"Please insert the file name for the second image: \")\n",
    "\n",
    "fileA = \"cmpe-building/left-1.jpg\"\n",
    "fileB = \"cmpe-building/left-1.jpg\"\n",
    "#imageA = cv2.imread(\"imgs/imageA.jpg\")\n",
    "#imageB = cv2.imread(\"imgs/imageB.jpg\")\n",
    "\n",
    "\n",
    "def findKeyPoints(img, template, distance=200):\n",
    "    detector = cv2.FeatureDetector_create(\"SIFT\")\n",
    "    descriptor = cv2.DescriptorExtractor_create(\"SIFT\")\n",
    "\n",
    "    skp = detector.detect(img)\n",
    "    skp, sd = descriptor.compute(img, skp)\n",
    "\n",
    "    tkp = detector.detect(template)\n",
    "    tkp, td = descriptor.compute(template, tkp)\n",
    "\n",
    "    flann_params = dict(algorithm=1, trees=4)\n",
    "    flann = cv2.flann_Index(sd, flann_params)\n",
    "    idx, dist = flann.knnSearch(td, 1, params={})\n",
    "    del flann\n",
    "\n",
    "    dist = dist[:,0]/2500.0\n",
    "    dist = dist.reshape(-1,).tolist()\n",
    "    idx = idx.reshape(-1).tolist()\n",
    "    indices = range(len(dist))\n",
    "    indices.sort(key=lambda i: dist[i])\n",
    "    dist = [dist[i] for i in indices]\n",
    "    idx = [idx[i] for i in indices]\n",
    "    skp_final = []\n",
    "    for i, dis in itertools.izip(idx, dist):\n",
    "        if dis < distance:\n",
    "            skp_final.append(skp[i])\n",
    "\n",
    "    flann = cv2.flann_Index(td, flann_params)\n",
    "    idx, dist = flann.knnSearch(sd, 1, params={})\n",
    "    del flann\n",
    "\n",
    "    dist = dist[:,0]/2500.0\n",
    "    dist = dist.reshape(-1,).tolist()\n",
    "    idx = idx.reshape(-1).tolist()\n",
    "    indices = range(len(dist))\n",
    "    indices.sort(key=lambda i: dist[i])\n",
    "    dist = [dist[i] for i in indices]\n",
    "    idx = [idx[i] for i in indices]\n",
    "    tkp_final = []\n",
    "    for i, dis in itertools.izip(idx, dist):\n",
    "        if dis < distance:\n",
    "            tkp_final.append(tkp[i])\n",
    "\n",
    "    return skp_final, tkp_final\n",
    "\n",
    "def drawKeyPoints(img, template, skp, tkp, num=-1):\n",
    "    pts = []\n",
    "    h1, w1 = img.shape[:2]\n",
    "    h2, w2 = template.shape[:2]\n",
    "    nWidth = w1+w2\n",
    "    nHeight = max(h1, h2)\n",
    "    hdif = (h1-h2)/2\n",
    "    newimg = np.zeros((nHeight, nWidth, 3), np.uint8)\n",
    "    newimg[hdif:hdif+h2, :w2] = template\n",
    "    newimg[:h1, w2:w1+w2] = img\n",
    "\n",
    "    maxlen = min(len(skp), len(tkp))\n",
    "    if num < 0 or num > maxlen:\n",
    "        num = maxlen\n",
    "    for i in range(num):\n",
    "        pt_a = (int(tkp[i].pt[0]), int(tkp[i].pt[1]+hdif))\n",
    "        pt_b = (int(skp[i].pt[0]+w2), int(skp[i].pt[1]))\n",
    "        pts.append(pt_a)\n",
    "        pts.append(pt_b)\n",
    "#         print pt_a\n",
    "#         print pt_b\n",
    "    return pts\n",
    "\n",
    "\n",
    "def match(imageA,imageB):\n",
    "    img = imageA\n",
    "    temp = imageB\n",
    "\n",
    "    dist = 200\n",
    "    num = 4\n",
    "\n",
    "    skp, tkp = findKeyPoints(img, temp, dist)\n",
    "    return drawKeyPoints(img, temp, skp, tkp, num)\n",
    "\n",
    "\n",
    "\n",
    "\n",
    "\n",
    "\n",
    "imageA = mpimg.imread(fileA)\n",
    "imageB = mpimg.imread(fileB)\n",
    "numPoints = 8\n",
    "# mode = raw_input(\"for sift enter sift: \")\n",
    "mode=\"zaa\"\n",
    "pts = []\n",
    "if (mode == \"sift\"):\n",
    "    pts = match(imageA,imageB)\n",
    "\n",
    "else:\n",
    "    fig = plt.figure()\n",
    "    figA = fig.add_subplot(1,2,1)\n",
    "    figB = fig.add_subplot(1,2,2)\n",
    "    # Display the image\n",
    "    figB.imshow(imageB,origin='upper')\n",
    "    figA.imshow(imageA,origin='upper')\n",
    "    plt.axis('image')\n",
    "    pts = np.array(plt.ginput(numPoints,timeout=0))\n",
    "\n",
    "pts = np.reshape(pts, (int(numPoints/2),4))\n"
   ]
  },
  {
   "cell_type": "code",
   "execution_count": 67,
   "metadata": {},
   "outputs": [],
   "source": [
    "pts=np.array([[ 765.9516129 ,  534.00322581,  788.66129032,  358.00322581],\n",
    "       [ 919.24193548,  255.80967742, 1049.82258065,  136.58387097],\n",
    "       [ 853.69354839,  664.58387097,  859.37096774,  471.5516129 ],\n",
    "       [ 944.53225806,  358.00322581, 1069.43548387,   51.42258065]])"
   ]
  },
  {
   "cell_type": "code",
   "execution_count": 3,
   "metadata": {},
   "outputs": [
    {
     "name": "stderr",
     "output_type": "stream",
     "text": [
      "C:\\Users\\aliye\\Anaconda3\\lib\\site-packages\\ipykernel_launcher.py:22: FutureWarning: `rcond` parameter will change to the default of machine precision times ``max(M, N)`` where M and N are the input matrix dimensions.\n",
      "To use the future default and silence this warning we advise to pass `rcond=None`, to keep using the old, explicitly pass `rcond=-1`.\n"
     ]
    }
   ],
   "source": [
    "xy = pts[:,[2,3]]\n",
    "\n",
    "A=np.zeros((numPoints,8),'float64')\n",
    "\n",
    "\n",
    "\n",
    "\n",
    "for i in range(int(numPoints/2)):\n",
    "    A[2*i][0]=pts[i][0]\n",
    "    A[2*i][1]=pts[i][1]\n",
    "    A[2*i][2]=1\n",
    "    A[2*i][6]=-pts[i][0]*pts[i][2]\n",
    "    A[2*i][7]=-pts[i][1]*pts[i][2]\n",
    "    A[2*i+1][3]=pts[i][0]\n",
    "    A[2*i+1][4]=pts[i][1]\n",
    "    A[2*i+1][5]=1\n",
    "    A[2*i+1][6]=-pts[i][0]*pts[i][3]\n",
    "    A[2*i+1][7]=-pts[i][1]*pts[i][3]\n",
    "\n",
    "Y=np.reshape(xy,(numPoints,1))\n",
    "\n",
    "a,b,c,d,e,f,g,h = np.linalg.lstsq(A, Y)[0]\n",
    "\n",
    "H=np.concatenate((a,b,c,d,e,f,g,h,[1])).reshape((3,3))\n",
    "\n",
    "#verifining the H matrix\n",
    "fig = plt.figure()\n",
    "figB = fig.add_subplot(1,2,2)\n",
    "figA = fig.add_subplot(1,2,1)\n",
    "figB.imshow(imageB,origin='upper')\n",
    "figA.imshow(imageA,origin='upper')\n",
    "plt.axis('image')\n",
    "i = 0\n",
    "while (i < (int(numPoints/2))):\n",
    "    pts = plt.ginput(1,timeout=0)\n",
    "    pts = np.reshape(pts,(1*2,1))\n",
    "    toTrans = np.ones((3,1))\n",
    "    toTrans[0][0] = pts[0]\n",
    "    toTrans[1][0] = pts[1]\n",
    "    p = np.dot(H,toTrans)\n",
    "    x = p[0][0]/p[2][0]\n",
    "    y = p[1][0]/p[2][0]\n",
    "    figA.scatter([x],[y])\n",
    "    i = i + 1\n",
    "\n",
    "\n",
    "\n",
    "img2 = cv2.imread(fileA)\n",
    "img1 = cv2.imread(fileB)\n",
    "mv1 = []\n",
    "mv2 = []\n",
    "rows = img1.shape[0]\n",
    "cols = img2.shape[1] + img2.shape[1]\n",
    "results = [np.zeros((rows,cols),np.uint8),np.zeros((rows,cols),np.uint8),np.zeros((rows,cols),np.uint8)]\n",
    "mv1 = cv2.split(img1,mv1)\n",
    "mv2 = cv2.split(img2,mv2)\n"
   ]
  },
  {
   "cell_type": "code",
   "execution_count": 13,
   "metadata": {},
   "outputs": [
    {
     "data": {
      "text/plain": [
       "1"
      ]
     },
     "execution_count": 13,
     "metadata": {},
     "output_type": "execute_result"
    }
   ],
   "source": [
    "len(cv2.split(img1))"
   ]
  },
  {
   "cell_type": "code",
   "execution_count": 14,
   "metadata": {},
   "outputs": [],
   "source": [
    "\n",
    "for ii in range(0,3):\n",
    "    img1 =mv1[ii]\n",
    "    img2 = mv2[ii]\n",
    "\n",
    "\n",
    "    #H = [[5.93314812e-01,6.41782199e-02,2.64710654e+02], [ -2.70368012e-01,7.92183580e-01,5.89275035e+01], [ -7.01814541e-04,-2.20932155e-04,1.00000000e+00]]\n",
    "    #H = [[0.585512,0.128589,259.396],[-0.285436,0.86002,52.1516],[-0.000748086,-0.000101119,1]]\n",
    "    #H2 = [[1.5995,-0.28828,-399.5444],[0.455588717,1.438633,-192.9034],[0.00124,math.pow(10,-5)*-7.51721074934485,1]]\n",
    "    Hinv = np.linalg.inv(H)\n",
    "    pixel = np.ones((3,1))\n",
    "    transPix = np.zeros((3,1),np.float64)\n",
    "\n",
    "#print pixel\n",
    "    for i in range(0,img1.shape[0]):    #loop on y\n",
    "        for j in range(0,img1.shape[1]):    #loop on x\n",
    "            pixel[0][0] = j\n",
    "            pixel[1][0] = i\n",
    "            pixel[2][0] = 1\n",
    "\n",
    "            transPix = np.dot(H,pixel)\n",
    "            x = transPix[0][0] / transPix[2][0]\n",
    "            y = transPix[1][0] / transPix[2][0]\n",
    "            l = math.floor(x)\n",
    "            k = math.floor(y)\n",
    "\n",
    "\n",
    "            if(k< results[ii].shape[0]and l < results[ii].shape[1] and k >=0 and l>=0):\n",
    "                results[ii][k][l] = img1[i][j]\n",
    "                #fill holes using inverse wrapping\n",
    "                invWrap = np.zeros((3,1),np.float64)\n",
    "                uprow = np.int(k-1)\n",
    "                leftcol = np.int(l-1)\n",
    "                downrow = np.int(k+1)\n",
    "                rightcol = np.int(l+1)\n",
    "                for r in range(uprow,downrow):\n",
    "                    for c in range(leftcol,rightcol):\n",
    "                        if (r == k and c == l):\n",
    "                            continue\n",
    "                        if(r>0 and r <results[ii].shape[0] and c > 0 and c < results[ii].shape[1]):\n",
    "                            invWrap[0][0] = c\n",
    "                            invWrap[1][0] = r\n",
    "                            invWrap[2][0] = 1\n",
    "                            invWrap = np.dot(Hinv,invWrap)\n",
    "                            x = math.floor(invWrap[0][0] / invWrap[2][0])\n",
    "                            y = math.floor(invWrap[1][0] / invWrap[2][0])\n",
    "                            if(x < img1.shape[1] and y < img1.shape[0]):\n",
    "                                results[ii][r][c] = img1[y][x]\n",
    "\n",
    "\n",
    "\n",
    "\n",
    "\n",
    "\n",
    "\n",
    "    for i in range(0,img2.shape[0]):\n",
    "        for j in range(0,img2.shape[1]):\n",
    "            results[ii][i][j] = img2[i][j]\n",
    "    \n",
    "\n",
    "    for i in range(0,results[ii].shape[0]):\n",
    "        for j in range(0,results[ii].shape[1]):\n",
    "            if(results[ii][i][j]==0):\n",
    "                jj = j\n",
    "                while(jj<results[ii].shape[1] and results[ii][i][jj]==0):\n",
    "                    results[ii][i][jj] = results[ii][i][jj-1]\n",
    "                    jj = jj +1\n",
    "                j=jj\n",
    "\n",
    "\n",
    "\n"
   ]
  },
  {
   "cell_type": "code",
   "execution_count": null,
   "metadata": {},
   "outputs": [],
   "source": [
    "res = cv2.merge(results)\n",
    "cv2.imshow(\"window\",res)\n",
    "cv2.waitKey(0)\n"
   ]
  },
  {
   "cell_type": "code",
   "execution_count": 48,
   "metadata": {},
   "outputs": [],
   "source": [
    "H=np.concatenate((a,b,c,d,e,f,g,h,[1]))"
   ]
  },
  {
   "cell_type": "code",
   "execution_count": null,
   "metadata": {},
   "outputs": [],
   "source": [
    "H"
   ]
  },
  {
   "cell_type": "code",
   "execution_count": null,
   "metadata": {},
   "outputs": [],
   "source": []
  },
  {
   "cell_type": "code",
   "execution_count": null,
   "metadata": {},
   "outputs": [],
   "source": []
  }
 ],
 "metadata": {
  "kernelspec": {
   "display_name": "Python 3",
   "language": "python",
   "name": "python3"
  },
  "language_info": {
   "codemirror_mode": {
    "name": "ipython",
    "version": 3
   },
   "file_extension": ".py",
   "mimetype": "text/x-python",
   "name": "python",
   "nbconvert_exporter": "python",
   "pygments_lexer": "ipython3",
   "version": "3.6.2"
  }
 },
 "nbformat": 4,
 "nbformat_minor": 2
}
